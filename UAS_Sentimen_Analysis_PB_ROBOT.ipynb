{
  "nbformat": 4,
  "nbformat_minor": 0,
  "metadata": {
    "colab": {
      "provenance": []
    },
    "kernelspec": {
      "name": "python3",
      "display_name": "Python 3"
    },
    "language_info": {
      "name": "python"
    }
  },
  "cells": [
    {
      "cell_type": "markdown",
      "source": [
        "## UAS Analitika Media Sosial\n",
        "\n",
        "NIM: **`A12.2020.06443`**\n",
        "\n",
        "Nama: **`ISRO' RIZKY WIBOWO`**\n",
        "\n",
        "Kelompok: **`A12.6503`**"
      ],
      "metadata": {
        "id": "MX9Q4yBiEGvQ"
      }
    },
    {
      "cell_type": "markdown",
      "source": [
        "### Load Library"
      ],
      "metadata": {
        "id": "dY61gHU7Ed1u"
      }
    },
    {
      "cell_type": "code",
      "execution_count": 1,
      "metadata": {
        "id": "KhgQy_qw9flz",
        "colab": {
          "base_uri": "https://localhost:8080/"
        },
        "outputId": "95f518e8-d108-47df-c141-b2a2d8ca5314"
      },
      "outputs": [
        {
          "output_type": "stream",
          "name": "stdout",
          "text": [
            "Drive already mounted at /content/drive; to attempt to forcibly remount, call drive.mount(\"/content/drive\", force_remount=True).\n"
          ]
        }
      ],
      "source": [
        "from google.colab import drive\n",
        "drive.mount('/content/drive')\n",
        "import sys\n",
        "sys.path.append('/content/drive/My Drive')"
      ]
    },
    {
      "cell_type": "markdown",
      "source": [
        "### Instalasi"
      ],
      "metadata": {
        "id": "iImzKt9HEg-f"
      }
    },
    {
      "cell_type": "code",
      "source": [
        "!pip install ekphrasis"
      ],
      "metadata": {
        "id": "PkQ5D21PEYMW",
        "colab": {
          "base_uri": "https://localhost:8080/"
        },
        "outputId": "283ba6b7-eb3a-48ff-b885-3ef1837a4ef7"
      },
      "execution_count": 2,
      "outputs": [
        {
          "output_type": "stream",
          "name": "stdout",
          "text": [
            "Looking in indexes: https://pypi.org/simple, https://us-python.pkg.dev/colab-wheels/public/simple/\n",
            "Requirement already satisfied: ekphrasis in /usr/local/lib/python3.8/dist-packages (0.5.4)\n",
            "Requirement already satisfied: tqdm in /usr/local/lib/python3.8/dist-packages (from ekphrasis) (4.64.1)\n",
            "Requirement already satisfied: colorama in /usr/local/lib/python3.8/dist-packages (from ekphrasis) (0.4.6)\n",
            "Requirement already satisfied: ftfy in /usr/local/lib/python3.8/dist-packages (from ekphrasis) (6.1.1)\n",
            "Requirement already satisfied: termcolor in /usr/local/lib/python3.8/dist-packages (from ekphrasis) (2.1.1)\n",
            "Requirement already satisfied: nltk in /usr/local/lib/python3.8/dist-packages (from ekphrasis) (3.7)\n",
            "Requirement already satisfied: numpy in /usr/local/lib/python3.8/dist-packages (from ekphrasis) (1.21.6)\n",
            "Requirement already satisfied: ujson in /usr/local/lib/python3.8/dist-packages (from ekphrasis) (5.6.0)\n",
            "Requirement already satisfied: matplotlib in /usr/local/lib/python3.8/dist-packages (from ekphrasis) (3.2.2)\n",
            "Requirement already satisfied: wcwidth>=0.2.5 in /usr/local/lib/python3.8/dist-packages (from ftfy->ekphrasis) (0.2.5)\n",
            "Requirement already satisfied: python-dateutil>=2.1 in /usr/local/lib/python3.8/dist-packages (from matplotlib->ekphrasis) (2.8.2)\n",
            "Requirement already satisfied: kiwisolver>=1.0.1 in /usr/local/lib/python3.8/dist-packages (from matplotlib->ekphrasis) (1.4.4)\n",
            "Requirement already satisfied: pyparsing!=2.0.4,!=2.1.2,!=2.1.6,>=2.0.1 in /usr/local/lib/python3.8/dist-packages (from matplotlib->ekphrasis) (3.0.9)\n",
            "Requirement already satisfied: cycler>=0.10 in /usr/local/lib/python3.8/dist-packages (from matplotlib->ekphrasis) (0.11.0)\n",
            "Requirement already satisfied: six>=1.5 in /usr/local/lib/python3.8/dist-packages (from python-dateutil>=2.1->matplotlib->ekphrasis) (1.15.0)\n",
            "Requirement already satisfied: joblib in /usr/local/lib/python3.8/dist-packages (from nltk->ekphrasis) (1.2.0)\n",
            "Requirement already satisfied: click in /usr/local/lib/python3.8/dist-packages (from nltk->ekphrasis) (7.1.2)\n",
            "Requirement already satisfied: regex>=2021.8.3 in /usr/local/lib/python3.8/dist-packages (from nltk->ekphrasis) (2022.6.2)\n"
          ]
        }
      ]
    },
    {
      "cell_type": "markdown",
      "source": [
        "### load eksprasis"
      ],
      "metadata": {
        "id": "PbasTdr8Es9X"
      }
    },
    {
      "cell_type": "code",
      "source": [
        "from ekphrasis.classes.preprocessor import TextPreProcessor\n",
        "from ekphrasis.classes.tokenizer import SocialTokenizer\n",
        "from ekphrasis.dicts.emoticons import emoticons\n",
        "\n",
        "text_processor = TextPreProcessor(\n",
        "    # terms that will be normalized\n",
        "    normalize=['email', 'percent', 'money', 'phone', 'user',\n",
        "        'time', 'date', 'number'],\n",
        "    # terms that will be annotated\n",
        "    #annotate={\"hashtag\", \"allcaps\", \"elongated\", \"repeated\",'emphasis', 'censored'},\n",
        "    annotate={\"hashtag\",\"allcaps\",\"elongated\",\"repeated\",'emphasis','censored'},\n",
        "    fix_html=True,  # fix HTML tokens\n",
        "    \n",
        "    # corpus from which the word statistics are going to be used \n",
        "    # for word segmentation \n",
        "    segmenter=\"twitter\", \n",
        "    \n",
        "    # corpus from which the word statistics are going to be used \n",
        "    # for spell correction\n",
        "    corrector=\"twitter\", \n",
        "    \n",
        "    unpack_hashtags=True,  # perform word segmentation on hashtags\n",
        "    unpack_contractions=True,  # Unpack contractions (can't -> can not)\n",
        "    spell_correct_elong=False,  # spell correction for elongated words\n",
        "    \n",
        "    # select a tokenizer. You can use SocialTokenizer, or pass your own\n",
        "    # the tokenizer, should take as input a string and return a list of tokens\n",
        "    tokenizer=SocialTokenizer(lowercase=True).tokenize,\n",
        "    \n",
        "    # list of dictionaries, for replacing tokens extracted from the text,\n",
        "    # with other expressions. You can pass more than one dictionaries.\n",
        "    dicts=[emoticons]\n",
        ")"
      ],
      "metadata": {
        "id": "BF-eWHjAEvSw",
        "colab": {
          "base_uri": "https://localhost:8080/"
        },
        "outputId": "7eec7949-e984-4de5-d633-5a1e61429054"
      },
      "execution_count": 3,
      "outputs": [
        {
          "output_type": "stream",
          "name": "stderr",
          "text": [
            "/usr/local/lib/python3.8/dist-packages/ekphrasis/classes/tokenizer.py:225: FutureWarning: Possible nested set at position 2190\n",
            "  self.tok = re.compile(r\"({})\".format(\"|\".join(pipeline)))\n"
          ]
        },
        {
          "output_type": "stream",
          "name": "stdout",
          "text": [
            "Reading twitter - 1grams ...\n",
            "Reading twitter - 2grams ...\n"
          ]
        },
        {
          "output_type": "stream",
          "name": "stderr",
          "text": [
            "/usr/local/lib/python3.8/dist-packages/ekphrasis/classes/exmanager.py:14: FutureWarning: Possible nested set at position 42\n",
            "  regexes = {k.lower(): re.compile(self.expressions[k]) for k, v in\n"
          ]
        },
        {
          "output_type": "stream",
          "name": "stdout",
          "text": [
            "Reading twitter - 1grams ...\n"
          ]
        }
      ]
    },
    {
      "cell_type": "markdown",
      "source": [
        "### load library"
      ],
      "metadata": {
        "id": "_pFRmpO_LdUa"
      }
    },
    {
      "cell_type": "code",
      "source": [
        "import re\n",
        "import string \n",
        "import pandas as pd\n",
        "from copy import deepcopy\n",
        "\n",
        "import matplotlib.pyplot as plt\n",
        "import seaborn as sns\n",
        "%matplotlib inline\n",
        "\n",
        "from sklearn.model_selection import train_test_split\n",
        "from sklearn.metrics import accuracy_score\n",
        "from sklearn.metrics import recall_score\n",
        "from sklearn.metrics import precision_score\n"
      ],
      "metadata": {
        "id": "Z8KXpt2yLglR"
      },
      "execution_count": 4,
      "outputs": []
    },
    {
      "cell_type": "markdown",
      "source": [
        "### load dataset"
      ],
      "metadata": {
        "id": "ao5lhGT2Li--"
      }
    },
    {
      "cell_type": "code",
      "source": [
        "df = pd.read_excel('/content/drive/My Drive/PB_ROBOT.xlsx')"
      ],
      "metadata": {
        "id": "0d1ourJ4LlYv"
      },
      "execution_count": 5,
      "outputs": []
    },
    {
      "cell_type": "code",
      "source": [
        "df.head()"
      ],
      "metadata": {
        "id": "bFtn3_4ZLwPp",
        "colab": {
          "base_uri": "https://localhost:8080/",
          "height": 206
        },
        "outputId": "c9a7b9be-4da6-45ee-d165-384f98834b36"
      },
      "execution_count": 6,
      "outputs": [
        {
          "output_type": "execute_result",
          "data": {
            "text/plain": [
              "            username  bintang  \\\n",
              "0         salonayu10        5   \n",
              "1      rubbyaqilla13        5   \n",
              "2            n*****1        2   \n",
              "3        erikatjhang        5   \n",
              "4  nandagiantari2002        5   \n",
              "\n",
              "                                              review  \n",
              "0  Alhamdulillah paketnya sudah sampai dgn aman P...  \n",
              "1  Alhamdulillah, pesanan saya sudah sampai nih k...  \n",
              "2  pertama kali aku kasih bintang di bwh 4, tpi e...  \n",
              "3  Pengiriman sangat cepat, padahal belinya pas l...  \n",
              "4  Jika ingin menghubungi layanan PLN 123, kamu d...  "
            ],
            "text/html": [
              "\n",
              "  <div id=\"df-3793d5c4-a90b-4871-b430-90d5d8fcbd5a\">\n",
              "    <div class=\"colab-df-container\">\n",
              "      <div>\n",
              "<style scoped>\n",
              "    .dataframe tbody tr th:only-of-type {\n",
              "        vertical-align: middle;\n",
              "    }\n",
              "\n",
              "    .dataframe tbody tr th {\n",
              "        vertical-align: top;\n",
              "    }\n",
              "\n",
              "    .dataframe thead th {\n",
              "        text-align: right;\n",
              "    }\n",
              "</style>\n",
              "<table border=\"1\" class=\"dataframe\">\n",
              "  <thead>\n",
              "    <tr style=\"text-align: right;\">\n",
              "      <th></th>\n",
              "      <th>username</th>\n",
              "      <th>bintang</th>\n",
              "      <th>review</th>\n",
              "    </tr>\n",
              "  </thead>\n",
              "  <tbody>\n",
              "    <tr>\n",
              "      <th>0</th>\n",
              "      <td>salonayu10</td>\n",
              "      <td>5</td>\n",
              "      <td>Alhamdulillah paketnya sudah sampai dgn aman P...</td>\n",
              "    </tr>\n",
              "    <tr>\n",
              "      <th>1</th>\n",
              "      <td>rubbyaqilla13</td>\n",
              "      <td>5</td>\n",
              "      <td>Alhamdulillah, pesanan saya sudah sampai nih k...</td>\n",
              "    </tr>\n",
              "    <tr>\n",
              "      <th>2</th>\n",
              "      <td>n*****1</td>\n",
              "      <td>2</td>\n",
              "      <td>pertama kali aku kasih bintang di bwh 4, tpi e...</td>\n",
              "    </tr>\n",
              "    <tr>\n",
              "      <th>3</th>\n",
              "      <td>erikatjhang</td>\n",
              "      <td>5</td>\n",
              "      <td>Pengiriman sangat cepat, padahal belinya pas l...</td>\n",
              "    </tr>\n",
              "    <tr>\n",
              "      <th>4</th>\n",
              "      <td>nandagiantari2002</td>\n",
              "      <td>5</td>\n",
              "      <td>Jika ingin menghubungi layanan PLN 123, kamu d...</td>\n",
              "    </tr>\n",
              "  </tbody>\n",
              "</table>\n",
              "</div>\n",
              "      <button class=\"colab-df-convert\" onclick=\"convertToInteractive('df-3793d5c4-a90b-4871-b430-90d5d8fcbd5a')\"\n",
              "              title=\"Convert this dataframe to an interactive table.\"\n",
              "              style=\"display:none;\">\n",
              "        \n",
              "  <svg xmlns=\"http://www.w3.org/2000/svg\" height=\"24px\"viewBox=\"0 0 24 24\"\n",
              "       width=\"24px\">\n",
              "    <path d=\"M0 0h24v24H0V0z\" fill=\"none\"/>\n",
              "    <path d=\"M18.56 5.44l.94 2.06.94-2.06 2.06-.94-2.06-.94-.94-2.06-.94 2.06-2.06.94zm-11 1L8.5 8.5l.94-2.06 2.06-.94-2.06-.94L8.5 2.5l-.94 2.06-2.06.94zm10 10l.94 2.06.94-2.06 2.06-.94-2.06-.94-.94-2.06-.94 2.06-2.06.94z\"/><path d=\"M17.41 7.96l-1.37-1.37c-.4-.4-.92-.59-1.43-.59-.52 0-1.04.2-1.43.59L10.3 9.45l-7.72 7.72c-.78.78-.78 2.05 0 2.83L4 21.41c.39.39.9.59 1.41.59.51 0 1.02-.2 1.41-.59l7.78-7.78 2.81-2.81c.8-.78.8-2.07 0-2.86zM5.41 20L4 18.59l7.72-7.72 1.47 1.35L5.41 20z\"/>\n",
              "  </svg>\n",
              "      </button>\n",
              "      \n",
              "  <style>\n",
              "    .colab-df-container {\n",
              "      display:flex;\n",
              "      flex-wrap:wrap;\n",
              "      gap: 12px;\n",
              "    }\n",
              "\n",
              "    .colab-df-convert {\n",
              "      background-color: #E8F0FE;\n",
              "      border: none;\n",
              "      border-radius: 50%;\n",
              "      cursor: pointer;\n",
              "      display: none;\n",
              "      fill: #1967D2;\n",
              "      height: 32px;\n",
              "      padding: 0 0 0 0;\n",
              "      width: 32px;\n",
              "    }\n",
              "\n",
              "    .colab-df-convert:hover {\n",
              "      background-color: #E2EBFA;\n",
              "      box-shadow: 0px 1px 2px rgba(60, 64, 67, 0.3), 0px 1px 3px 1px rgba(60, 64, 67, 0.15);\n",
              "      fill: #174EA6;\n",
              "    }\n",
              "\n",
              "    [theme=dark] .colab-df-convert {\n",
              "      background-color: #3B4455;\n",
              "      fill: #D2E3FC;\n",
              "    }\n",
              "\n",
              "    [theme=dark] .colab-df-convert:hover {\n",
              "      background-color: #434B5C;\n",
              "      box-shadow: 0px 1px 3px 1px rgba(0, 0, 0, 0.15);\n",
              "      filter: drop-shadow(0px 1px 2px rgba(0, 0, 0, 0.3));\n",
              "      fill: #FFFFFF;\n",
              "    }\n",
              "  </style>\n",
              "\n",
              "      <script>\n",
              "        const buttonEl =\n",
              "          document.querySelector('#df-3793d5c4-a90b-4871-b430-90d5d8fcbd5a button.colab-df-convert');\n",
              "        buttonEl.style.display =\n",
              "          google.colab.kernel.accessAllowed ? 'block' : 'none';\n",
              "\n",
              "        async function convertToInteractive(key) {\n",
              "          const element = document.querySelector('#df-3793d5c4-a90b-4871-b430-90d5d8fcbd5a');\n",
              "          const dataTable =\n",
              "            await google.colab.kernel.invokeFunction('convertToInteractive',\n",
              "                                                     [key], {});\n",
              "          if (!dataTable) return;\n",
              "\n",
              "          const docLinkHtml = 'Like what you see? Visit the ' +\n",
              "            '<a target=\"_blank\" href=https://colab.research.google.com/notebooks/data_table.ipynb>data table notebook</a>'\n",
              "            + ' to learn more about interactive tables.';\n",
              "          element.innerHTML = '';\n",
              "          dataTable['output_type'] = 'display_data';\n",
              "          await google.colab.output.renderOutput(dataTable, element);\n",
              "          const docLink = document.createElement('div');\n",
              "          docLink.innerHTML = docLinkHtml;\n",
              "          element.appendChild(docLink);\n",
              "        }\n",
              "      </script>\n",
              "    </div>\n",
              "  </div>\n",
              "  "
            ]
          },
          "metadata": {},
          "execution_count": 6
        }
      ]
    },
    {
      "cell_type": "markdown",
      "source": [
        "Kita akan memakai kolom bintang dan review, maka kolom username dapat kita drop"
      ],
      "metadata": {
        "id": "eBlvfFDrLzdg"
      }
    },
    {
      "cell_type": "code",
      "source": [
        "df = df.drop(['username'], axis=1)"
      ],
      "metadata": {
        "id": "8D218McDPseE"
      },
      "execution_count": 7,
      "outputs": []
    },
    {
      "cell_type": "code",
      "source": [
        "df.head()"
      ],
      "metadata": {
        "id": "lcEhxKUfPyxn",
        "colab": {
          "base_uri": "https://localhost:8080/",
          "height": 206
        },
        "outputId": "2a19362c-4771-495a-e26f-60d73e67087d"
      },
      "execution_count": 8,
      "outputs": [
        {
          "output_type": "execute_result",
          "data": {
            "text/plain": [
              "   bintang                                             review\n",
              "0        5  Alhamdulillah paketnya sudah sampai dgn aman P...\n",
              "1        5  Alhamdulillah, pesanan saya sudah sampai nih k...\n",
              "2        2  pertama kali aku kasih bintang di bwh 4, tpi e...\n",
              "3        5  Pengiriman sangat cepat, padahal belinya pas l...\n",
              "4        5  Jika ingin menghubungi layanan PLN 123, kamu d..."
            ],
            "text/html": [
              "\n",
              "  <div id=\"df-86187f66-efa5-473d-af7e-e52b10366122\">\n",
              "    <div class=\"colab-df-container\">\n",
              "      <div>\n",
              "<style scoped>\n",
              "    .dataframe tbody tr th:only-of-type {\n",
              "        vertical-align: middle;\n",
              "    }\n",
              "\n",
              "    .dataframe tbody tr th {\n",
              "        vertical-align: top;\n",
              "    }\n",
              "\n",
              "    .dataframe thead th {\n",
              "        text-align: right;\n",
              "    }\n",
              "</style>\n",
              "<table border=\"1\" class=\"dataframe\">\n",
              "  <thead>\n",
              "    <tr style=\"text-align: right;\">\n",
              "      <th></th>\n",
              "      <th>bintang</th>\n",
              "      <th>review</th>\n",
              "    </tr>\n",
              "  </thead>\n",
              "  <tbody>\n",
              "    <tr>\n",
              "      <th>0</th>\n",
              "      <td>5</td>\n",
              "      <td>Alhamdulillah paketnya sudah sampai dgn aman P...</td>\n",
              "    </tr>\n",
              "    <tr>\n",
              "      <th>1</th>\n",
              "      <td>5</td>\n",
              "      <td>Alhamdulillah, pesanan saya sudah sampai nih k...</td>\n",
              "    </tr>\n",
              "    <tr>\n",
              "      <th>2</th>\n",
              "      <td>2</td>\n",
              "      <td>pertama kali aku kasih bintang di bwh 4, tpi e...</td>\n",
              "    </tr>\n",
              "    <tr>\n",
              "      <th>3</th>\n",
              "      <td>5</td>\n",
              "      <td>Pengiriman sangat cepat, padahal belinya pas l...</td>\n",
              "    </tr>\n",
              "    <tr>\n",
              "      <th>4</th>\n",
              "      <td>5</td>\n",
              "      <td>Jika ingin menghubungi layanan PLN 123, kamu d...</td>\n",
              "    </tr>\n",
              "  </tbody>\n",
              "</table>\n",
              "</div>\n",
              "      <button class=\"colab-df-convert\" onclick=\"convertToInteractive('df-86187f66-efa5-473d-af7e-e52b10366122')\"\n",
              "              title=\"Convert this dataframe to an interactive table.\"\n",
              "              style=\"display:none;\">\n",
              "        \n",
              "  <svg xmlns=\"http://www.w3.org/2000/svg\" height=\"24px\"viewBox=\"0 0 24 24\"\n",
              "       width=\"24px\">\n",
              "    <path d=\"M0 0h24v24H0V0z\" fill=\"none\"/>\n",
              "    <path d=\"M18.56 5.44l.94 2.06.94-2.06 2.06-.94-2.06-.94-.94-2.06-.94 2.06-2.06.94zm-11 1L8.5 8.5l.94-2.06 2.06-.94-2.06-.94L8.5 2.5l-.94 2.06-2.06.94zm10 10l.94 2.06.94-2.06 2.06-.94-2.06-.94-.94-2.06-.94 2.06-2.06.94z\"/><path d=\"M17.41 7.96l-1.37-1.37c-.4-.4-.92-.59-1.43-.59-.52 0-1.04.2-1.43.59L10.3 9.45l-7.72 7.72c-.78.78-.78 2.05 0 2.83L4 21.41c.39.39.9.59 1.41.59.51 0 1.02-.2 1.41-.59l7.78-7.78 2.81-2.81c.8-.78.8-2.07 0-2.86zM5.41 20L4 18.59l7.72-7.72 1.47 1.35L5.41 20z\"/>\n",
              "  </svg>\n",
              "      </button>\n",
              "      \n",
              "  <style>\n",
              "    .colab-df-container {\n",
              "      display:flex;\n",
              "      flex-wrap:wrap;\n",
              "      gap: 12px;\n",
              "    }\n",
              "\n",
              "    .colab-df-convert {\n",
              "      background-color: #E8F0FE;\n",
              "      border: none;\n",
              "      border-radius: 50%;\n",
              "      cursor: pointer;\n",
              "      display: none;\n",
              "      fill: #1967D2;\n",
              "      height: 32px;\n",
              "      padding: 0 0 0 0;\n",
              "      width: 32px;\n",
              "    }\n",
              "\n",
              "    .colab-df-convert:hover {\n",
              "      background-color: #E2EBFA;\n",
              "      box-shadow: 0px 1px 2px rgba(60, 64, 67, 0.3), 0px 1px 3px 1px rgba(60, 64, 67, 0.15);\n",
              "      fill: #174EA6;\n",
              "    }\n",
              "\n",
              "    [theme=dark] .colab-df-convert {\n",
              "      background-color: #3B4455;\n",
              "      fill: #D2E3FC;\n",
              "    }\n",
              "\n",
              "    [theme=dark] .colab-df-convert:hover {\n",
              "      background-color: #434B5C;\n",
              "      box-shadow: 0px 1px 3px 1px rgba(0, 0, 0, 0.15);\n",
              "      filter: drop-shadow(0px 1px 2px rgba(0, 0, 0, 0.3));\n",
              "      fill: #FFFFFF;\n",
              "    }\n",
              "  </style>\n",
              "\n",
              "      <script>\n",
              "        const buttonEl =\n",
              "          document.querySelector('#df-86187f66-efa5-473d-af7e-e52b10366122 button.colab-df-convert');\n",
              "        buttonEl.style.display =\n",
              "          google.colab.kernel.accessAllowed ? 'block' : 'none';\n",
              "\n",
              "        async function convertToInteractive(key) {\n",
              "          const element = document.querySelector('#df-86187f66-efa5-473d-af7e-e52b10366122');\n",
              "          const dataTable =\n",
              "            await google.colab.kernel.invokeFunction('convertToInteractive',\n",
              "                                                     [key], {});\n",
              "          if (!dataTable) return;\n",
              "\n",
              "          const docLinkHtml = 'Like what you see? Visit the ' +\n",
              "            '<a target=\"_blank\" href=https://colab.research.google.com/notebooks/data_table.ipynb>data table notebook</a>'\n",
              "            + ' to learn more about interactive tables.';\n",
              "          element.innerHTML = '';\n",
              "          dataTable['output_type'] = 'display_data';\n",
              "          await google.colab.output.renderOutput(dataTable, element);\n",
              "          const docLink = document.createElement('div');\n",
              "          docLink.innerHTML = docLinkHtml;\n",
              "          element.appendChild(docLink);\n",
              "        }\n",
              "      </script>\n",
              "    </div>\n",
              "  </div>\n",
              "  "
            ]
          },
          "metadata": {},
          "execution_count": 8
        }
      ]
    },
    {
      "cell_type": "code",
      "source": [
        "df['review'] = df['review'].apply(str)"
      ],
      "metadata": {
        "id": "Fo2FBfqBdKT9"
      },
      "execution_count": 9,
      "outputs": []
    },
    {
      "cell_type": "markdown",
      "source": [
        "## Preprocessing"
      ],
      "metadata": {
        "id": "9WtnqQc9P1-r"
      }
    },
    {
      "cell_type": "markdown",
      "source": [
        "### Setting Fungsi"
      ],
      "metadata": {
        "id": "MsVBWVTyP3VD"
      }
    },
    {
      "cell_type": "code",
      "source": [
        "def bersih_data(text):\n",
        "    return \" \".join(text_processor.pre_process_doc(text))\n",
        "\n",
        "def non_ascii(text):\n",
        "    return text.encode('ascii', 'replace').decode('ascii')\n",
        "\n",
        "def remove_space(text):\n",
        "    return \" \".join(text.split())\n",
        "\n",
        "def remove_emoji(text):\n",
        "    return ' '.join(re.sub(\"([x#][A-Za-z0-9]+)\",\" \", text).split())\n",
        "\n",
        "def remove_tab(text):\n",
        "    return text.replace('\\\\t',\" \").replace('\\\\n',\" \").replace('\\\\u',\" \").replace('\\\\',\"\")\n",
        "\n",
        "def remove_tab2(text):\n",
        "    return re.sub('\\s+',' ',text)\n",
        "\n",
        "def remove_rt(text):\n",
        "    return text.replace('RT',\" \")\n",
        "\n",
        "def remove_mention(text):\n",
        "    return ' '.join(re.sub(\"([@#][A-Za-z0-9]+)|(\\w+:\\/\\/\\S+)\",\" \", text).split())\n",
        "\n",
        "def remove_incomplete_url(text):\n",
        "    return text.replace(\"http://\", \" \").replace(\"https://\", \" \")\n",
        "\n",
        "def remove_single_char(text):\n",
        "    return re.sub(r\"\\b[a-zA-Z]\\b\", \"\", text)\n",
        "\n",
        "def change_stripe(text):\n",
        "    return text.replace('-',\" \")\n",
        "\n",
        "def lower(text):\n",
        "    return text.lower()\n",
        "\n",
        "def remove_punctuation(text):\n",
        "    remove = string.punctuation\n",
        "    remove = remove.replace(\"_\", \"\") # don't remove hyphens\n",
        "    pattern = r\"[{}]\".format(remove) # create the pattern\n",
        "    return re.sub(pattern, \"\", text) "
      ],
      "metadata": {
        "id": "fBiJykTvP6ed"
      },
      "execution_count": 10,
      "outputs": []
    },
    {
      "cell_type": "markdown",
      "source": [
        "### Running Preprocessing"
      ],
      "metadata": {
        "id": "gsTKUi-hQCg2"
      }
    },
    {
      "cell_type": "code",
      "source": [
        "final_string = []\n",
        "for text in df['review'].values:\n",
        "    EachReviewText = \"\"\n",
        "    proc = bersih_data(text)\n",
        "    proc = lower(proc)\n",
        "    proc = change_stripe(proc)\n",
        "    proc = non_ascii(proc)\n",
        "    proc = remove_emoji(proc)\n",
        "    proc = remove_single_char(proc)\n",
        "    proc = remove_punctuation(proc)\n",
        "    proc = remove_space(proc)\n",
        "    EachReviewText = proc\n",
        "    final_string.append(EachReviewText)"
      ],
      "metadata": {
        "id": "2Gxofj-KQEuG"
      },
      "execution_count": 11,
      "outputs": []
    },
    {
      "cell_type": "markdown",
      "source": [
        "masukkan hasil preprocessing ke kolom `step01`"
      ],
      "metadata": {
        "id": "LWOurMtgQhkg"
      }
    },
    {
      "cell_type": "code",
      "source": [
        "df[\"step01\"] = final_string"
      ],
      "metadata": {
        "id": "LI00KaBIa-ks"
      },
      "execution_count": 12,
      "outputs": []
    },
    {
      "cell_type": "code",
      "source": [
        "df.head()"
      ],
      "metadata": {
        "id": "AkI7H9tYbCDN",
        "colab": {
          "base_uri": "https://localhost:8080/",
          "height": 206
        },
        "outputId": "54042e30-f261-44a2-daca-f2d294403045"
      },
      "execution_count": 13,
      "outputs": [
        {
          "output_type": "execute_result",
          "data": {
            "text/plain": [
              "   bintang                                             review  \\\n",
              "0        5  Alhamdulillah paketnya sudah sampai dgn aman P...   \n",
              "1        5  Alhamdulillah, pesanan saya sudah sampai nih k...   \n",
              "2        2  pertama kali aku kasih bintang di bwh 4, tpi e...   \n",
              "3        5  Pengiriman sangat cepat, padahal belinya pas l...   \n",
              "4        5  Jika ingin menghubungi layanan PLN 123, kamu d...   \n",
              "\n",
              "                                              step01  \n",
              "0  alhamdulillah paketnya sudah sampai dgn aman p...  \n",
              "1  alhamdulillah pesanan saya sudah sampai nih ka...  \n",
              "2  pertama kali aku kasih bintang di bwh number t...  \n",
              "3  pengiriman sangat cepat padahal belinya pas la...  \n",
              "4  jika ingin menghubungi layanan allcaps pln all...  "
            ],
            "text/html": [
              "\n",
              "  <div id=\"df-e7a8adf1-daed-44d3-b78c-2ed897731333\">\n",
              "    <div class=\"colab-df-container\">\n",
              "      <div>\n",
              "<style scoped>\n",
              "    .dataframe tbody tr th:only-of-type {\n",
              "        vertical-align: middle;\n",
              "    }\n",
              "\n",
              "    .dataframe tbody tr th {\n",
              "        vertical-align: top;\n",
              "    }\n",
              "\n",
              "    .dataframe thead th {\n",
              "        text-align: right;\n",
              "    }\n",
              "</style>\n",
              "<table border=\"1\" class=\"dataframe\">\n",
              "  <thead>\n",
              "    <tr style=\"text-align: right;\">\n",
              "      <th></th>\n",
              "      <th>bintang</th>\n",
              "      <th>review</th>\n",
              "      <th>step01</th>\n",
              "    </tr>\n",
              "  </thead>\n",
              "  <tbody>\n",
              "    <tr>\n",
              "      <th>0</th>\n",
              "      <td>5</td>\n",
              "      <td>Alhamdulillah paketnya sudah sampai dgn aman P...</td>\n",
              "      <td>alhamdulillah paketnya sudah sampai dgn aman p...</td>\n",
              "    </tr>\n",
              "    <tr>\n",
              "      <th>1</th>\n",
              "      <td>5</td>\n",
              "      <td>Alhamdulillah, pesanan saya sudah sampai nih k...</td>\n",
              "      <td>alhamdulillah pesanan saya sudah sampai nih ka...</td>\n",
              "    </tr>\n",
              "    <tr>\n",
              "      <th>2</th>\n",
              "      <td>2</td>\n",
              "      <td>pertama kali aku kasih bintang di bwh 4, tpi e...</td>\n",
              "      <td>pertama kali aku kasih bintang di bwh number t...</td>\n",
              "    </tr>\n",
              "    <tr>\n",
              "      <th>3</th>\n",
              "      <td>5</td>\n",
              "      <td>Pengiriman sangat cepat, padahal belinya pas l...</td>\n",
              "      <td>pengiriman sangat cepat padahal belinya pas la...</td>\n",
              "    </tr>\n",
              "    <tr>\n",
              "      <th>4</th>\n",
              "      <td>5</td>\n",
              "      <td>Jika ingin menghubungi layanan PLN 123, kamu d...</td>\n",
              "      <td>jika ingin menghubungi layanan allcaps pln all...</td>\n",
              "    </tr>\n",
              "  </tbody>\n",
              "</table>\n",
              "</div>\n",
              "      <button class=\"colab-df-convert\" onclick=\"convertToInteractive('df-e7a8adf1-daed-44d3-b78c-2ed897731333')\"\n",
              "              title=\"Convert this dataframe to an interactive table.\"\n",
              "              style=\"display:none;\">\n",
              "        \n",
              "  <svg xmlns=\"http://www.w3.org/2000/svg\" height=\"24px\"viewBox=\"0 0 24 24\"\n",
              "       width=\"24px\">\n",
              "    <path d=\"M0 0h24v24H0V0z\" fill=\"none\"/>\n",
              "    <path d=\"M18.56 5.44l.94 2.06.94-2.06 2.06-.94-2.06-.94-.94-2.06-.94 2.06-2.06.94zm-11 1L8.5 8.5l.94-2.06 2.06-.94-2.06-.94L8.5 2.5l-.94 2.06-2.06.94zm10 10l.94 2.06.94-2.06 2.06-.94-2.06-.94-.94-2.06-.94 2.06-2.06.94z\"/><path d=\"M17.41 7.96l-1.37-1.37c-.4-.4-.92-.59-1.43-.59-.52 0-1.04.2-1.43.59L10.3 9.45l-7.72 7.72c-.78.78-.78 2.05 0 2.83L4 21.41c.39.39.9.59 1.41.59.51 0 1.02-.2 1.41-.59l7.78-7.78 2.81-2.81c.8-.78.8-2.07 0-2.86zM5.41 20L4 18.59l7.72-7.72 1.47 1.35L5.41 20z\"/>\n",
              "  </svg>\n",
              "      </button>\n",
              "      \n",
              "  <style>\n",
              "    .colab-df-container {\n",
              "      display:flex;\n",
              "      flex-wrap:wrap;\n",
              "      gap: 12px;\n",
              "    }\n",
              "\n",
              "    .colab-df-convert {\n",
              "      background-color: #E8F0FE;\n",
              "      border: none;\n",
              "      border-radius: 50%;\n",
              "      cursor: pointer;\n",
              "      display: none;\n",
              "      fill: #1967D2;\n",
              "      height: 32px;\n",
              "      padding: 0 0 0 0;\n",
              "      width: 32px;\n",
              "    }\n",
              "\n",
              "    .colab-df-convert:hover {\n",
              "      background-color: #E2EBFA;\n",
              "      box-shadow: 0px 1px 2px rgba(60, 64, 67, 0.3), 0px 1px 3px 1px rgba(60, 64, 67, 0.15);\n",
              "      fill: #174EA6;\n",
              "    }\n",
              "\n",
              "    [theme=dark] .colab-df-convert {\n",
              "      background-color: #3B4455;\n",
              "      fill: #D2E3FC;\n",
              "    }\n",
              "\n",
              "    [theme=dark] .colab-df-convert:hover {\n",
              "      background-color: #434B5C;\n",
              "      box-shadow: 0px 1px 3px 1px rgba(0, 0, 0, 0.15);\n",
              "      filter: drop-shadow(0px 1px 2px rgba(0, 0, 0, 0.3));\n",
              "      fill: #FFFFFF;\n",
              "    }\n",
              "  </style>\n",
              "\n",
              "      <script>\n",
              "        const buttonEl =\n",
              "          document.querySelector('#df-e7a8adf1-daed-44d3-b78c-2ed897731333 button.colab-df-convert');\n",
              "        buttonEl.style.display =\n",
              "          google.colab.kernel.accessAllowed ? 'block' : 'none';\n",
              "\n",
              "        async function convertToInteractive(key) {\n",
              "          const element = document.querySelector('#df-e7a8adf1-daed-44d3-b78c-2ed897731333');\n",
              "          const dataTable =\n",
              "            await google.colab.kernel.invokeFunction('convertToInteractive',\n",
              "                                                     [key], {});\n",
              "          if (!dataTable) return;\n",
              "\n",
              "          const docLinkHtml = 'Like what you see? Visit the ' +\n",
              "            '<a target=\"_blank\" href=https://colab.research.google.com/notebooks/data_table.ipynb>data table notebook</a>'\n",
              "            + ' to learn more about interactive tables.';\n",
              "          element.innerHTML = '';\n",
              "          dataTable['output_type'] = 'display_data';\n",
              "          await google.colab.output.renderOutput(dataTable, element);\n",
              "          const docLink = document.createElement('div');\n",
              "          docLink.innerHTML = docLinkHtml;\n",
              "          element.appendChild(docLink);\n",
              "        }\n",
              "      </script>\n",
              "    </div>\n",
              "  </div>\n",
              "  "
            ]
          },
          "metadata": {},
          "execution_count": 13
        }
      ]
    },
    {
      "cell_type": "markdown",
      "source": [
        "cek jumlah dataset"
      ],
      "metadata": {
        "id": "FcIV_6OfbJJ6"
      }
    },
    {
      "cell_type": "code",
      "source": [
        "df.info()"
      ],
      "metadata": {
        "id": "J3O74xmRbLYQ",
        "colab": {
          "base_uri": "https://localhost:8080/"
        },
        "outputId": "aea486e8-c6aa-41de-cd83-438291828f02"
      },
      "execution_count": 14,
      "outputs": [
        {
          "output_type": "stream",
          "name": "stdout",
          "text": [
            "<class 'pandas.core.frame.DataFrame'>\n",
            "RangeIndex: 3003 entries, 0 to 3002\n",
            "Data columns (total 3 columns):\n",
            " #   Column   Non-Null Count  Dtype \n",
            "---  ------   --------------  ----- \n",
            " 0   bintang  3003 non-null   int64 \n",
            " 1   review   3003 non-null   object\n",
            " 2   step01   3003 non-null   object\n",
            "dtypes: int64(1), object(2)\n",
            "memory usage: 70.5+ KB\n"
          ]
        }
      ]
    },
    {
      "cell_type": "markdown",
      "source": [
        "### hapus record yang kosong"
      ],
      "metadata": {
        "id": "aOAf5hywbNkR"
      }
    },
    {
      "cell_type": "code",
      "source": [
        "df_hapus = df[~df['step01'].str.contains(\" \")]"
      ],
      "metadata": {
        "id": "zL9zedp-bOha"
      },
      "execution_count": 15,
      "outputs": []
    },
    {
      "cell_type": "code",
      "source": [
        "df_new = df[~df.isin(df_hapus)].dropna()"
      ],
      "metadata": {
        "id": "Zfe92gD7bSbf"
      },
      "execution_count": 16,
      "outputs": []
    },
    {
      "cell_type": "code",
      "source": [
        "df_new.info()"
      ],
      "metadata": {
        "id": "xh_VNWcLbWsQ",
        "colab": {
          "base_uri": "https://localhost:8080/"
        },
        "outputId": "cd2f42d6-9f81-484e-c02f-214b301596bf"
      },
      "execution_count": 17,
      "outputs": [
        {
          "output_type": "stream",
          "name": "stdout",
          "text": [
            "<class 'pandas.core.frame.DataFrame'>\n",
            "Int64Index: 2898 entries, 0 to 3002\n",
            "Data columns (total 3 columns):\n",
            " #   Column   Non-Null Count  Dtype  \n",
            "---  ------   --------------  -----  \n",
            " 0   bintang  2898 non-null   float64\n",
            " 1   review   2898 non-null   object \n",
            " 2   step01   2898 non-null   object \n",
            "dtypes: float64(1), object(2)\n",
            "memory usage: 90.6+ KB\n"
          ]
        }
      ]
    },
    {
      "cell_type": "markdown",
      "source": [
        "### Tokenisasi"
      ],
      "metadata": {
        "id": "7bUGPrbldgVD"
      }
    },
    {
      "cell_type": "code",
      "source": [
        "# Token\n",
        "\n",
        "import nltk\n",
        "nltk.download('punkt')\n",
        "from nltk.tokenize import word_tokenize "
      ],
      "metadata": {
        "id": "coSFqRkNdiS7",
        "colab": {
          "base_uri": "https://localhost:8080/"
        },
        "outputId": "1ecf94e9-49a7-4cce-f002-2f661049f774"
      },
      "execution_count": 18,
      "outputs": [
        {
          "output_type": "stream",
          "name": "stderr",
          "text": [
            "[nltk_data] Downloading package punkt to /root/nltk_data...\n",
            "[nltk_data]   Package punkt is already up-to-date!\n"
          ]
        }
      ]
    },
    {
      "cell_type": "code",
      "source": [
        "def word_tokenize_wrapper(text):\n",
        "  return word_tokenize(text)"
      ],
      "metadata": {
        "id": "KvD-FQ1Zdi5L"
      },
      "execution_count": 19,
      "outputs": []
    },
    {
      "cell_type": "code",
      "source": [
        "df_new['tokens'] = df['step01'].apply(word_tokenize_wrapper)"
      ],
      "metadata": {
        "id": "z9160_9AdmnN"
      },
      "execution_count": 20,
      "outputs": []
    },
    {
      "cell_type": "code",
      "source": [
        "df_new.head(10)"
      ],
      "metadata": {
        "id": "cPzU4aRndogf",
        "colab": {
          "base_uri": "https://localhost:8080/",
          "height": 363
        },
        "outputId": "4e495185-db04-4971-cebf-e239fc9755f3"
      },
      "execution_count": 21,
      "outputs": [
        {
          "output_type": "execute_result",
          "data": {
            "text/plain": [
              "   bintang                                             review  \\\n",
              "0      5.0  Alhamdulillah paketnya sudah sampai dgn aman P...   \n",
              "1      5.0  Alhamdulillah, pesanan saya sudah sampai nih k...   \n",
              "2      2.0  pertama kali aku kasih bintang di bwh 4, tpi e...   \n",
              "3      5.0  Pengiriman sangat cepat, padahal belinya pas l...   \n",
              "4      5.0  Jika ingin menghubungi layanan PLN 123, kamu d...   \n",
              "5      5.0  alhamdulillah sudah sampai. berfungsi dengan b...   \n",
              "6      5.0  Produknya sudah sampai dan bagus karena beli l...   \n",
              "7      5.0  Maaf baru diriview, Packing aman, produknya ba...   \n",
              "8      5.0  Maaf ga ada videonya soalnya sudah di yang pun...   \n",
              "9      5.0  Sukaa warnanya,, semoga bertahan lama lah yaa,...   \n",
              "\n",
              "                                              step01  \\\n",
              "0  alhamdulillah paketnya sudah sampai dgn aman p...   \n",
              "1  alhamdulillah pesanan saya sudah sampai nih ka...   \n",
              "2  pertama kali aku kasih bintang di bwh number t...   \n",
              "3  pengiriman sangat cepat padahal belinya pas la...   \n",
              "4  jika ingin menghubungi layanan allcaps pln all...   \n",
              "5  alhamdulillah sudah sampai berfungsi dengan ba...   \n",
              "6  produknya sudah sampai dan bagus karena beli l...   \n",
              "7  maaf baru diriview packing aman produknya bagu...   \n",
              "8  maaf ga ada videonya soalnya sudah di yang pun...   \n",
              "9  sukaa warnanya semoga bertahan lama lah yaa se...   \n",
              "\n",
              "                                              tokens  \n",
              "0  [alhamdulillah, paketnya, sudah, sampai, dgn, ...  \n",
              "1  [alhamdulillah, pesanan, saya, sudah, sampai, ...  \n",
              "2  [pertama, kali, aku, kasih, bintang, di, bwh, ...  \n",
              "3  [pengiriman, sangat, cepat, padahal, belinya, ...  \n",
              "4  [jika, ingin, menghubungi, layanan, allcaps, p...  \n",
              "5  [alhamdulillah, sudah, sampai, berfungsi, deng...  \n",
              "6  [produknya, sudah, sampai, dan, bagus, karena,...  \n",
              "7  [maaf, baru, diriview, packing, aman, produkny...  \n",
              "8  [maaf, ga, ada, videonya, soalnya, sudah, di, ...  \n",
              "9  [sukaa, warnanya, semoga, bertahan, lama, lah,...  "
            ],
            "text/html": [
              "\n",
              "  <div id=\"df-67937972-da29-4089-92e0-a225435c315f\">\n",
              "    <div class=\"colab-df-container\">\n",
              "      <div>\n",
              "<style scoped>\n",
              "    .dataframe tbody tr th:only-of-type {\n",
              "        vertical-align: middle;\n",
              "    }\n",
              "\n",
              "    .dataframe tbody tr th {\n",
              "        vertical-align: top;\n",
              "    }\n",
              "\n",
              "    .dataframe thead th {\n",
              "        text-align: right;\n",
              "    }\n",
              "</style>\n",
              "<table border=\"1\" class=\"dataframe\">\n",
              "  <thead>\n",
              "    <tr style=\"text-align: right;\">\n",
              "      <th></th>\n",
              "      <th>bintang</th>\n",
              "      <th>review</th>\n",
              "      <th>step01</th>\n",
              "      <th>tokens</th>\n",
              "    </tr>\n",
              "  </thead>\n",
              "  <tbody>\n",
              "    <tr>\n",
              "      <th>0</th>\n",
              "      <td>5.0</td>\n",
              "      <td>Alhamdulillah paketnya sudah sampai dgn aman P...</td>\n",
              "      <td>alhamdulillah paketnya sudah sampai dgn aman p...</td>\n",
              "      <td>[alhamdulillah, paketnya, sudah, sampai, dgn, ...</td>\n",
              "    </tr>\n",
              "    <tr>\n",
              "      <th>1</th>\n",
              "      <td>5.0</td>\n",
              "      <td>Alhamdulillah, pesanan saya sudah sampai nih k...</td>\n",
              "      <td>alhamdulillah pesanan saya sudah sampai nih ka...</td>\n",
              "      <td>[alhamdulillah, pesanan, saya, sudah, sampai, ...</td>\n",
              "    </tr>\n",
              "    <tr>\n",
              "      <th>2</th>\n",
              "      <td>2.0</td>\n",
              "      <td>pertama kali aku kasih bintang di bwh 4, tpi e...</td>\n",
              "      <td>pertama kali aku kasih bintang di bwh number t...</td>\n",
              "      <td>[pertama, kali, aku, kasih, bintang, di, bwh, ...</td>\n",
              "    </tr>\n",
              "    <tr>\n",
              "      <th>3</th>\n",
              "      <td>5.0</td>\n",
              "      <td>Pengiriman sangat cepat, padahal belinya pas l...</td>\n",
              "      <td>pengiriman sangat cepat padahal belinya pas la...</td>\n",
              "      <td>[pengiriman, sangat, cepat, padahal, belinya, ...</td>\n",
              "    </tr>\n",
              "    <tr>\n",
              "      <th>4</th>\n",
              "      <td>5.0</td>\n",
              "      <td>Jika ingin menghubungi layanan PLN 123, kamu d...</td>\n",
              "      <td>jika ingin menghubungi layanan allcaps pln all...</td>\n",
              "      <td>[jika, ingin, menghubungi, layanan, allcaps, p...</td>\n",
              "    </tr>\n",
              "    <tr>\n",
              "      <th>5</th>\n",
              "      <td>5.0</td>\n",
              "      <td>alhamdulillah sudah sampai. berfungsi dengan b...</td>\n",
              "      <td>alhamdulillah sudah sampai berfungsi dengan ba...</td>\n",
              "      <td>[alhamdulillah, sudah, sampai, berfungsi, deng...</td>\n",
              "    </tr>\n",
              "    <tr>\n",
              "      <th>6</th>\n",
              "      <td>5.0</td>\n",
              "      <td>Produknya sudah sampai dan bagus karena beli l...</td>\n",
              "      <td>produknya sudah sampai dan bagus karena beli l...</td>\n",
              "      <td>[produknya, sudah, sampai, dan, bagus, karena,...</td>\n",
              "    </tr>\n",
              "    <tr>\n",
              "      <th>7</th>\n",
              "      <td>5.0</td>\n",
              "      <td>Maaf baru diriview, Packing aman, produknya ba...</td>\n",
              "      <td>maaf baru diriview packing aman produknya bagu...</td>\n",
              "      <td>[maaf, baru, diriview, packing, aman, produkny...</td>\n",
              "    </tr>\n",
              "    <tr>\n",
              "      <th>8</th>\n",
              "      <td>5.0</td>\n",
              "      <td>Maaf ga ada videonya soalnya sudah di yang pun...</td>\n",
              "      <td>maaf ga ada videonya soalnya sudah di yang pun...</td>\n",
              "      <td>[maaf, ga, ada, videonya, soalnya, sudah, di, ...</td>\n",
              "    </tr>\n",
              "    <tr>\n",
              "      <th>9</th>\n",
              "      <td>5.0</td>\n",
              "      <td>Sukaa warnanya,, semoga bertahan lama lah yaa,...</td>\n",
              "      <td>sukaa warnanya semoga bertahan lama lah yaa se...</td>\n",
              "      <td>[sukaa, warnanya, semoga, bertahan, lama, lah,...</td>\n",
              "    </tr>\n",
              "  </tbody>\n",
              "</table>\n",
              "</div>\n",
              "      <button class=\"colab-df-convert\" onclick=\"convertToInteractive('df-67937972-da29-4089-92e0-a225435c315f')\"\n",
              "              title=\"Convert this dataframe to an interactive table.\"\n",
              "              style=\"display:none;\">\n",
              "        \n",
              "  <svg xmlns=\"http://www.w3.org/2000/svg\" height=\"24px\"viewBox=\"0 0 24 24\"\n",
              "       width=\"24px\">\n",
              "    <path d=\"M0 0h24v24H0V0z\" fill=\"none\"/>\n",
              "    <path d=\"M18.56 5.44l.94 2.06.94-2.06 2.06-.94-2.06-.94-.94-2.06-.94 2.06-2.06.94zm-11 1L8.5 8.5l.94-2.06 2.06-.94-2.06-.94L8.5 2.5l-.94 2.06-2.06.94zm10 10l.94 2.06.94-2.06 2.06-.94-2.06-.94-.94-2.06-.94 2.06-2.06.94z\"/><path d=\"M17.41 7.96l-1.37-1.37c-.4-.4-.92-.59-1.43-.59-.52 0-1.04.2-1.43.59L10.3 9.45l-7.72 7.72c-.78.78-.78 2.05 0 2.83L4 21.41c.39.39.9.59 1.41.59.51 0 1.02-.2 1.41-.59l7.78-7.78 2.81-2.81c.8-.78.8-2.07 0-2.86zM5.41 20L4 18.59l7.72-7.72 1.47 1.35L5.41 20z\"/>\n",
              "  </svg>\n",
              "      </button>\n",
              "      \n",
              "  <style>\n",
              "    .colab-df-container {\n",
              "      display:flex;\n",
              "      flex-wrap:wrap;\n",
              "      gap: 12px;\n",
              "    }\n",
              "\n",
              "    .colab-df-convert {\n",
              "      background-color: #E8F0FE;\n",
              "      border: none;\n",
              "      border-radius: 50%;\n",
              "      cursor: pointer;\n",
              "      display: none;\n",
              "      fill: #1967D2;\n",
              "      height: 32px;\n",
              "      padding: 0 0 0 0;\n",
              "      width: 32px;\n",
              "    }\n",
              "\n",
              "    .colab-df-convert:hover {\n",
              "      background-color: #E2EBFA;\n",
              "      box-shadow: 0px 1px 2px rgba(60, 64, 67, 0.3), 0px 1px 3px 1px rgba(60, 64, 67, 0.15);\n",
              "      fill: #174EA6;\n",
              "    }\n",
              "\n",
              "    [theme=dark] .colab-df-convert {\n",
              "      background-color: #3B4455;\n",
              "      fill: #D2E3FC;\n",
              "    }\n",
              "\n",
              "    [theme=dark] .colab-df-convert:hover {\n",
              "      background-color: #434B5C;\n",
              "      box-shadow: 0px 1px 3px 1px rgba(0, 0, 0, 0.15);\n",
              "      filter: drop-shadow(0px 1px 2px rgba(0, 0, 0, 0.3));\n",
              "      fill: #FFFFFF;\n",
              "    }\n",
              "  </style>\n",
              "\n",
              "      <script>\n",
              "        const buttonEl =\n",
              "          document.querySelector('#df-67937972-da29-4089-92e0-a225435c315f button.colab-df-convert');\n",
              "        buttonEl.style.display =\n",
              "          google.colab.kernel.accessAllowed ? 'block' : 'none';\n",
              "\n",
              "        async function convertToInteractive(key) {\n",
              "          const element = document.querySelector('#df-67937972-da29-4089-92e0-a225435c315f');\n",
              "          const dataTable =\n",
              "            await google.colab.kernel.invokeFunction('convertToInteractive',\n",
              "                                                     [key], {});\n",
              "          if (!dataTable) return;\n",
              "\n",
              "          const docLinkHtml = 'Like what you see? Visit the ' +\n",
              "            '<a target=\"_blank\" href=https://colab.research.google.com/notebooks/data_table.ipynb>data table notebook</a>'\n",
              "            + ' to learn more about interactive tables.';\n",
              "          element.innerHTML = '';\n",
              "          dataTable['output_type'] = 'display_data';\n",
              "          await google.colab.output.renderOutput(dataTable, element);\n",
              "          const docLink = document.createElement('div');\n",
              "          docLink.innerHTML = docLinkHtml;\n",
              "          element.appendChild(docLink);\n",
              "        }\n",
              "      </script>\n",
              "    </div>\n",
              "  </div>\n",
              "  "
            ]
          },
          "metadata": {},
          "execution_count": 21
        }
      ]
    },
    {
      "cell_type": "code",
      "source": [
        "i=0\n",
        "final_string_tokens = []\n",
        "for text in df_new['tokens'].values:\n",
        "    EachReviewText = \"\"\n",
        "    EachReviewText = ' '.join(text)\n",
        "    final_string_tokens.append(EachReviewText)"
      ],
      "metadata": {
        "id": "WWzDMNX1dryh"
      },
      "execution_count": 22,
      "outputs": []
    },
    {
      "cell_type": "code",
      "source": [
        "df_new[\"step02\"] = final_string_tokens"
      ],
      "metadata": {
        "id": "vEcGKPH1dtgZ"
      },
      "execution_count": 23,
      "outputs": []
    },
    {
      "cell_type": "code",
      "source": [
        "df_new.head()"
      ],
      "metadata": {
        "id": "pNZ4rOWjdt4f",
        "colab": {
          "base_uri": "https://localhost:8080/",
          "height": 302
        },
        "outputId": "589eabec-efd6-48cc-8330-b318b59ed5e1"
      },
      "execution_count": 24,
      "outputs": [
        {
          "output_type": "execute_result",
          "data": {
            "text/plain": [
              "   bintang                                             review  \\\n",
              "0      5.0  Alhamdulillah paketnya sudah sampai dgn aman P...   \n",
              "1      5.0  Alhamdulillah, pesanan saya sudah sampai nih k...   \n",
              "2      2.0  pertama kali aku kasih bintang di bwh 4, tpi e...   \n",
              "3      5.0  Pengiriman sangat cepat, padahal belinya pas l...   \n",
              "4      5.0  Jika ingin menghubungi layanan PLN 123, kamu d...   \n",
              "\n",
              "                                              step01  \\\n",
              "0  alhamdulillah paketnya sudah sampai dgn aman p...   \n",
              "1  alhamdulillah pesanan saya sudah sampai nih ka...   \n",
              "2  pertama kali aku kasih bintang di bwh number t...   \n",
              "3  pengiriman sangat cepat padahal belinya pas la...   \n",
              "4  jika ingin menghubungi layanan allcaps pln all...   \n",
              "\n",
              "                                              tokens  \\\n",
              "0  [alhamdulillah, paketnya, sudah, sampai, dgn, ...   \n",
              "1  [alhamdulillah, pesanan, saya, sudah, sampai, ...   \n",
              "2  [pertama, kali, aku, kasih, bintang, di, bwh, ...   \n",
              "3  [pengiriman, sangat, cepat, padahal, belinya, ...   \n",
              "4  [jika, ingin, menghubungi, layanan, allcaps, p...   \n",
              "\n",
              "                                              step02  \n",
              "0  alhamdulillah paketnya sudah sampai dgn aman p...  \n",
              "1  alhamdulillah pesanan saya sudah sampai nih ka...  \n",
              "2  pertama kali aku kasih bintang di bwh number t...  \n",
              "3  pengiriman sangat cepat padahal belinya pas la...  \n",
              "4  jika ingin menghubungi layanan allcaps pln all...  "
            ],
            "text/html": [
              "\n",
              "  <div id=\"df-694ae0e3-d091-4157-90e9-2b206b991c82\">\n",
              "    <div class=\"colab-df-container\">\n",
              "      <div>\n",
              "<style scoped>\n",
              "    .dataframe tbody tr th:only-of-type {\n",
              "        vertical-align: middle;\n",
              "    }\n",
              "\n",
              "    .dataframe tbody tr th {\n",
              "        vertical-align: top;\n",
              "    }\n",
              "\n",
              "    .dataframe thead th {\n",
              "        text-align: right;\n",
              "    }\n",
              "</style>\n",
              "<table border=\"1\" class=\"dataframe\">\n",
              "  <thead>\n",
              "    <tr style=\"text-align: right;\">\n",
              "      <th></th>\n",
              "      <th>bintang</th>\n",
              "      <th>review</th>\n",
              "      <th>step01</th>\n",
              "      <th>tokens</th>\n",
              "      <th>step02</th>\n",
              "    </tr>\n",
              "  </thead>\n",
              "  <tbody>\n",
              "    <tr>\n",
              "      <th>0</th>\n",
              "      <td>5.0</td>\n",
              "      <td>Alhamdulillah paketnya sudah sampai dgn aman P...</td>\n",
              "      <td>alhamdulillah paketnya sudah sampai dgn aman p...</td>\n",
              "      <td>[alhamdulillah, paketnya, sudah, sampai, dgn, ...</td>\n",
              "      <td>alhamdulillah paketnya sudah sampai dgn aman p...</td>\n",
              "    </tr>\n",
              "    <tr>\n",
              "      <th>1</th>\n",
              "      <td>5.0</td>\n",
              "      <td>Alhamdulillah, pesanan saya sudah sampai nih k...</td>\n",
              "      <td>alhamdulillah pesanan saya sudah sampai nih ka...</td>\n",
              "      <td>[alhamdulillah, pesanan, saya, sudah, sampai, ...</td>\n",
              "      <td>alhamdulillah pesanan saya sudah sampai nih ka...</td>\n",
              "    </tr>\n",
              "    <tr>\n",
              "      <th>2</th>\n",
              "      <td>2.0</td>\n",
              "      <td>pertama kali aku kasih bintang di bwh 4, tpi e...</td>\n",
              "      <td>pertama kali aku kasih bintang di bwh number t...</td>\n",
              "      <td>[pertama, kali, aku, kasih, bintang, di, bwh, ...</td>\n",
              "      <td>pertama kali aku kasih bintang di bwh number t...</td>\n",
              "    </tr>\n",
              "    <tr>\n",
              "      <th>3</th>\n",
              "      <td>5.0</td>\n",
              "      <td>Pengiriman sangat cepat, padahal belinya pas l...</td>\n",
              "      <td>pengiriman sangat cepat padahal belinya pas la...</td>\n",
              "      <td>[pengiriman, sangat, cepat, padahal, belinya, ...</td>\n",
              "      <td>pengiriman sangat cepat padahal belinya pas la...</td>\n",
              "    </tr>\n",
              "    <tr>\n",
              "      <th>4</th>\n",
              "      <td>5.0</td>\n",
              "      <td>Jika ingin menghubungi layanan PLN 123, kamu d...</td>\n",
              "      <td>jika ingin menghubungi layanan allcaps pln all...</td>\n",
              "      <td>[jika, ingin, menghubungi, layanan, allcaps, p...</td>\n",
              "      <td>jika ingin menghubungi layanan allcaps pln all...</td>\n",
              "    </tr>\n",
              "  </tbody>\n",
              "</table>\n",
              "</div>\n",
              "      <button class=\"colab-df-convert\" onclick=\"convertToInteractive('df-694ae0e3-d091-4157-90e9-2b206b991c82')\"\n",
              "              title=\"Convert this dataframe to an interactive table.\"\n",
              "              style=\"display:none;\">\n",
              "        \n",
              "  <svg xmlns=\"http://www.w3.org/2000/svg\" height=\"24px\"viewBox=\"0 0 24 24\"\n",
              "       width=\"24px\">\n",
              "    <path d=\"M0 0h24v24H0V0z\" fill=\"none\"/>\n",
              "    <path d=\"M18.56 5.44l.94 2.06.94-2.06 2.06-.94-2.06-.94-.94-2.06-.94 2.06-2.06.94zm-11 1L8.5 8.5l.94-2.06 2.06-.94-2.06-.94L8.5 2.5l-.94 2.06-2.06.94zm10 10l.94 2.06.94-2.06 2.06-.94-2.06-.94-.94-2.06-.94 2.06-2.06.94z\"/><path d=\"M17.41 7.96l-1.37-1.37c-.4-.4-.92-.59-1.43-.59-.52 0-1.04.2-1.43.59L10.3 9.45l-7.72 7.72c-.78.78-.78 2.05 0 2.83L4 21.41c.39.39.9.59 1.41.59.51 0 1.02-.2 1.41-.59l7.78-7.78 2.81-2.81c.8-.78.8-2.07 0-2.86zM5.41 20L4 18.59l7.72-7.72 1.47 1.35L5.41 20z\"/>\n",
              "  </svg>\n",
              "      </button>\n",
              "      \n",
              "  <style>\n",
              "    .colab-df-container {\n",
              "      display:flex;\n",
              "      flex-wrap:wrap;\n",
              "      gap: 12px;\n",
              "    }\n",
              "\n",
              "    .colab-df-convert {\n",
              "      background-color: #E8F0FE;\n",
              "      border: none;\n",
              "      border-radius: 50%;\n",
              "      cursor: pointer;\n",
              "      display: none;\n",
              "      fill: #1967D2;\n",
              "      height: 32px;\n",
              "      padding: 0 0 0 0;\n",
              "      width: 32px;\n",
              "    }\n",
              "\n",
              "    .colab-df-convert:hover {\n",
              "      background-color: #E2EBFA;\n",
              "      box-shadow: 0px 1px 2px rgba(60, 64, 67, 0.3), 0px 1px 3px 1px rgba(60, 64, 67, 0.15);\n",
              "      fill: #174EA6;\n",
              "    }\n",
              "\n",
              "    [theme=dark] .colab-df-convert {\n",
              "      background-color: #3B4455;\n",
              "      fill: #D2E3FC;\n",
              "    }\n",
              "\n",
              "    [theme=dark] .colab-df-convert:hover {\n",
              "      background-color: #434B5C;\n",
              "      box-shadow: 0px 1px 3px 1px rgba(0, 0, 0, 0.15);\n",
              "      filter: drop-shadow(0px 1px 2px rgba(0, 0, 0, 0.3));\n",
              "      fill: #FFFFFF;\n",
              "    }\n",
              "  </style>\n",
              "\n",
              "      <script>\n",
              "        const buttonEl =\n",
              "          document.querySelector('#df-694ae0e3-d091-4157-90e9-2b206b991c82 button.colab-df-convert');\n",
              "        buttonEl.style.display =\n",
              "          google.colab.kernel.accessAllowed ? 'block' : 'none';\n",
              "\n",
              "        async function convertToInteractive(key) {\n",
              "          const element = document.querySelector('#df-694ae0e3-d091-4157-90e9-2b206b991c82');\n",
              "          const dataTable =\n",
              "            await google.colab.kernel.invokeFunction('convertToInteractive',\n",
              "                                                     [key], {});\n",
              "          if (!dataTable) return;\n",
              "\n",
              "          const docLinkHtml = 'Like what you see? Visit the ' +\n",
              "            '<a target=\"_blank\" href=https://colab.research.google.com/notebooks/data_table.ipynb>data table notebook</a>'\n",
              "            + ' to learn more about interactive tables.';\n",
              "          element.innerHTML = '';\n",
              "          dataTable['output_type'] = 'display_data';\n",
              "          await google.colab.output.renderOutput(dataTable, element);\n",
              "          const docLink = document.createElement('div');\n",
              "          docLink.innerHTML = docLinkHtml;\n",
              "          element.appendChild(docLink);\n",
              "        }\n",
              "      </script>\n",
              "    </div>\n",
              "  </div>\n",
              "  "
            ]
          },
          "metadata": {},
          "execution_count": 24
        }
      ]
    },
    {
      "cell_type": "markdown",
      "source": [
        "### Stemming - Menggunakan Sastrawi"
      ],
      "metadata": {
        "id": "M2XcmPaDbeke"
      }
    },
    {
      "cell_type": "code",
      "source": [
        "!pip install sastrawi"
      ],
      "metadata": {
        "id": "_z7g2uHIbo2V",
        "colab": {
          "base_uri": "https://localhost:8080/"
        },
        "outputId": "232c1b3d-18c6-438c-cc51-901c53f36a6f"
      },
      "execution_count": 25,
      "outputs": [
        {
          "output_type": "stream",
          "name": "stdout",
          "text": [
            "Looking in indexes: https://pypi.org/simple, https://us-python.pkg.dev/colab-wheels/public/simple/\n",
            "Collecting sastrawi\n",
            "  Downloading Sastrawi-1.0.1-py2.py3-none-any.whl (209 kB)\n",
            "\u001b[K     |████████████████████████████████| 209 kB 4.0 MB/s \n",
            "\u001b[?25hInstalling collected packages: sastrawi\n",
            "Successfully installed sastrawi-1.0.1\n"
          ]
        }
      ]
    },
    {
      "cell_type": "code",
      "source": [
        "from Sastrawi.Stemmer.StemmerFactory import StemmerFactory\n",
        "factory = StemmerFactory()\n",
        "stemmer = factory.create_stemmer()"
      ],
      "metadata": {
        "id": "ZM8XGh5Wbsf_"
      },
      "execution_count": 26,
      "outputs": []
    },
    {
      "cell_type": "code",
      "source": [
        "final_string = []\n",
        "s = \"\"\n",
        "for sentence in df_new[\"step02\"].values:\n",
        "    filteredSentence = []\n",
        "    EachReviewText = \"\"\n",
        "    s = (stemmer.stem(sentence))\n",
        "    filteredSentence.append(s)\n",
        "    \n",
        "    EachReviewText = ' '.join(filteredSentence)\n",
        "    final_string.append(EachReviewText)"
      ],
      "metadata": {
        "id": "0S9oF0JBbtCY"
      },
      "execution_count": 27,
      "outputs": []
    },
    {
      "cell_type": "code",
      "source": [
        "df_new[\"ProcessedText\"] = final_string"
      ],
      "metadata": {
        "id": "-6MWqBTUbuag"
      },
      "execution_count": 28,
      "outputs": []
    },
    {
      "cell_type": "code",
      "source": [
        "df_new.head(10)"
      ],
      "metadata": {
        "id": "4z1QFVSzbyK5",
        "colab": {
          "base_uri": "https://localhost:8080/",
          "height": 580
        },
        "outputId": "3bb97141-9e99-44a1-f7b2-4d734698afea"
      },
      "execution_count": 29,
      "outputs": [
        {
          "output_type": "execute_result",
          "data": {
            "text/plain": [
              "   bintang                                             review  \\\n",
              "0      5.0  Alhamdulillah paketnya sudah sampai dgn aman P...   \n",
              "1      5.0  Alhamdulillah, pesanan saya sudah sampai nih k...   \n",
              "2      2.0  pertama kali aku kasih bintang di bwh 4, tpi e...   \n",
              "3      5.0  Pengiriman sangat cepat, padahal belinya pas l...   \n",
              "4      5.0  Jika ingin menghubungi layanan PLN 123, kamu d...   \n",
              "5      5.0  alhamdulillah sudah sampai. berfungsi dengan b...   \n",
              "6      5.0  Produknya sudah sampai dan bagus karena beli l...   \n",
              "7      5.0  Maaf baru diriview, Packing aman, produknya ba...   \n",
              "8      5.0  Maaf ga ada videonya soalnya sudah di yang pun...   \n",
              "9      5.0  Sukaa warnanya,, semoga bertahan lama lah yaa,...   \n",
              "\n",
              "                                              step01  \\\n",
              "0  alhamdulillah paketnya sudah sampai dgn aman p...   \n",
              "1  alhamdulillah pesanan saya sudah sampai nih ka...   \n",
              "2  pertama kali aku kasih bintang di bwh number t...   \n",
              "3  pengiriman sangat cepat padahal belinya pas la...   \n",
              "4  jika ingin menghubungi layanan allcaps pln all...   \n",
              "5  alhamdulillah sudah sampai berfungsi dengan ba...   \n",
              "6  produknya sudah sampai dan bagus karena beli l...   \n",
              "7  maaf baru diriview packing aman produknya bagu...   \n",
              "8  maaf ga ada videonya soalnya sudah di yang pun...   \n",
              "9  sukaa warnanya semoga bertahan lama lah yaa se...   \n",
              "\n",
              "                                              tokens  \\\n",
              "0  [alhamdulillah, paketnya, sudah, sampai, dgn, ...   \n",
              "1  [alhamdulillah, pesanan, saya, sudah, sampai, ...   \n",
              "2  [pertama, kali, aku, kasih, bintang, di, bwh, ...   \n",
              "3  [pengiriman, sangat, cepat, padahal, belinya, ...   \n",
              "4  [jika, ingin, menghubungi, layanan, allcaps, p...   \n",
              "5  [alhamdulillah, sudah, sampai, berfungsi, deng...   \n",
              "6  [produknya, sudah, sampai, dan, bagus, karena,...   \n",
              "7  [maaf, baru, diriview, packing, aman, produkny...   \n",
              "8  [maaf, ga, ada, videonya, soalnya, sudah, di, ...   \n",
              "9  [sukaa, warnanya, semoga, bertahan, lama, lah,...   \n",
              "\n",
              "                                              step02  \\\n",
              "0  alhamdulillah paketnya sudah sampai dgn aman p...   \n",
              "1  alhamdulillah pesanan saya sudah sampai nih ka...   \n",
              "2  pertama kali aku kasih bintang di bwh number t...   \n",
              "3  pengiriman sangat cepat padahal belinya pas la...   \n",
              "4  jika ingin menghubungi layanan allcaps pln all...   \n",
              "5  alhamdulillah sudah sampai berfungsi dengan ba...   \n",
              "6  produknya sudah sampai dan bagus karena beli l...   \n",
              "7  maaf baru diriview packing aman produknya bagu...   \n",
              "8  maaf ga ada videonya soalnya sudah di yang pun...   \n",
              "9  sukaa warnanya semoga bertahan lama lah yaa se...   \n",
              "\n",
              "                                       ProcessedText  \n",
              "0  alhamdulillah paket sudah sampai dgn aman prod...  \n",
              "1  alhamdulillah pesan saya sudah sampai nih ka d...  \n",
              "2  pertama kali aku kasih bintang di bwh number t...  \n",
              "3  kirim sangat cepat padahal beli pas lagi event...  \n",
              "4  jika ingin hubung layan allcaps pln allcaps nu...  \n",
              "5  alhamdulillah sudah sampai fungsi dengan baikk...  \n",
              "6  produk sudah sampai dan bagus karena beli lang...  \n",
              "7  maaf baru diriview packing aman produk bagus t...  \n",
              "8  maaf ga ada video soal sudah di yang punya pow...  \n",
              "9  sukaa warna moga tahan lama lah yaa moga gak c...  "
            ],
            "text/html": [
              "\n",
              "  <div id=\"df-3f5e174f-b7f5-4624-9f9e-c7b6ed9ce95b\">\n",
              "    <div class=\"colab-df-container\">\n",
              "      <div>\n",
              "<style scoped>\n",
              "    .dataframe tbody tr th:only-of-type {\n",
              "        vertical-align: middle;\n",
              "    }\n",
              "\n",
              "    .dataframe tbody tr th {\n",
              "        vertical-align: top;\n",
              "    }\n",
              "\n",
              "    .dataframe thead th {\n",
              "        text-align: right;\n",
              "    }\n",
              "</style>\n",
              "<table border=\"1\" class=\"dataframe\">\n",
              "  <thead>\n",
              "    <tr style=\"text-align: right;\">\n",
              "      <th></th>\n",
              "      <th>bintang</th>\n",
              "      <th>review</th>\n",
              "      <th>step01</th>\n",
              "      <th>tokens</th>\n",
              "      <th>step02</th>\n",
              "      <th>ProcessedText</th>\n",
              "    </tr>\n",
              "  </thead>\n",
              "  <tbody>\n",
              "    <tr>\n",
              "      <th>0</th>\n",
              "      <td>5.0</td>\n",
              "      <td>Alhamdulillah paketnya sudah sampai dgn aman P...</td>\n",
              "      <td>alhamdulillah paketnya sudah sampai dgn aman p...</td>\n",
              "      <td>[alhamdulillah, paketnya, sudah, sampai, dgn, ...</td>\n",
              "      <td>alhamdulillah paketnya sudah sampai dgn aman p...</td>\n",
              "      <td>alhamdulillah paket sudah sampai dgn aman prod...</td>\n",
              "    </tr>\n",
              "    <tr>\n",
              "      <th>1</th>\n",
              "      <td>5.0</td>\n",
              "      <td>Alhamdulillah, pesanan saya sudah sampai nih k...</td>\n",
              "      <td>alhamdulillah pesanan saya sudah sampai nih ka...</td>\n",
              "      <td>[alhamdulillah, pesanan, saya, sudah, sampai, ...</td>\n",
              "      <td>alhamdulillah pesanan saya sudah sampai nih ka...</td>\n",
              "      <td>alhamdulillah pesan saya sudah sampai nih ka d...</td>\n",
              "    </tr>\n",
              "    <tr>\n",
              "      <th>2</th>\n",
              "      <td>2.0</td>\n",
              "      <td>pertama kali aku kasih bintang di bwh 4, tpi e...</td>\n",
              "      <td>pertama kali aku kasih bintang di bwh number t...</td>\n",
              "      <td>[pertama, kali, aku, kasih, bintang, di, bwh, ...</td>\n",
              "      <td>pertama kali aku kasih bintang di bwh number t...</td>\n",
              "      <td>pertama kali aku kasih bintang di bwh number t...</td>\n",
              "    </tr>\n",
              "    <tr>\n",
              "      <th>3</th>\n",
              "      <td>5.0</td>\n",
              "      <td>Pengiriman sangat cepat, padahal belinya pas l...</td>\n",
              "      <td>pengiriman sangat cepat padahal belinya pas la...</td>\n",
              "      <td>[pengiriman, sangat, cepat, padahal, belinya, ...</td>\n",
              "      <td>pengiriman sangat cepat padahal belinya pas la...</td>\n",
              "      <td>kirim sangat cepat padahal beli pas lagi event...</td>\n",
              "    </tr>\n",
              "    <tr>\n",
              "      <th>4</th>\n",
              "      <td>5.0</td>\n",
              "      <td>Jika ingin menghubungi layanan PLN 123, kamu d...</td>\n",
              "      <td>jika ingin menghubungi layanan allcaps pln all...</td>\n",
              "      <td>[jika, ingin, menghubungi, layanan, allcaps, p...</td>\n",
              "      <td>jika ingin menghubungi layanan allcaps pln all...</td>\n",
              "      <td>jika ingin hubung layan allcaps pln allcaps nu...</td>\n",
              "    </tr>\n",
              "    <tr>\n",
              "      <th>5</th>\n",
              "      <td>5.0</td>\n",
              "      <td>alhamdulillah sudah sampai. berfungsi dengan b...</td>\n",
              "      <td>alhamdulillah sudah sampai berfungsi dengan ba...</td>\n",
              "      <td>[alhamdulillah, sudah, sampai, berfungsi, deng...</td>\n",
              "      <td>alhamdulillah sudah sampai berfungsi dengan ba...</td>\n",
              "      <td>alhamdulillah sudah sampai fungsi dengan baikk...</td>\n",
              "    </tr>\n",
              "    <tr>\n",
              "      <th>6</th>\n",
              "      <td>5.0</td>\n",
              "      <td>Produknya sudah sampai dan bagus karena beli l...</td>\n",
              "      <td>produknya sudah sampai dan bagus karena beli l...</td>\n",
              "      <td>[produknya, sudah, sampai, dan, bagus, karena,...</td>\n",
              "      <td>produknya sudah sampai dan bagus karena beli l...</td>\n",
              "      <td>produk sudah sampai dan bagus karena beli lang...</td>\n",
              "    </tr>\n",
              "    <tr>\n",
              "      <th>7</th>\n",
              "      <td>5.0</td>\n",
              "      <td>Maaf baru diriview, Packing aman, produknya ba...</td>\n",
              "      <td>maaf baru diriview packing aman produknya bagu...</td>\n",
              "      <td>[maaf, baru, diriview, packing, aman, produkny...</td>\n",
              "      <td>maaf baru diriview packing aman produknya bagu...</td>\n",
              "      <td>maaf baru diriview packing aman produk bagus t...</td>\n",
              "    </tr>\n",
              "    <tr>\n",
              "      <th>8</th>\n",
              "      <td>5.0</td>\n",
              "      <td>Maaf ga ada videonya soalnya sudah di yang pun...</td>\n",
              "      <td>maaf ga ada videonya soalnya sudah di yang pun...</td>\n",
              "      <td>[maaf, ga, ada, videonya, soalnya, sudah, di, ...</td>\n",
              "      <td>maaf ga ada videonya soalnya sudah di yang pun...</td>\n",
              "      <td>maaf ga ada video soal sudah di yang punya pow...</td>\n",
              "    </tr>\n",
              "    <tr>\n",
              "      <th>9</th>\n",
              "      <td>5.0</td>\n",
              "      <td>Sukaa warnanya,, semoga bertahan lama lah yaa,...</td>\n",
              "      <td>sukaa warnanya semoga bertahan lama lah yaa se...</td>\n",
              "      <td>[sukaa, warnanya, semoga, bertahan, lama, lah,...</td>\n",
              "      <td>sukaa warnanya semoga bertahan lama lah yaa se...</td>\n",
              "      <td>sukaa warna moga tahan lama lah yaa moga gak c...</td>\n",
              "    </tr>\n",
              "  </tbody>\n",
              "</table>\n",
              "</div>\n",
              "      <button class=\"colab-df-convert\" onclick=\"convertToInteractive('df-3f5e174f-b7f5-4624-9f9e-c7b6ed9ce95b')\"\n",
              "              title=\"Convert this dataframe to an interactive table.\"\n",
              "              style=\"display:none;\">\n",
              "        \n",
              "  <svg xmlns=\"http://www.w3.org/2000/svg\" height=\"24px\"viewBox=\"0 0 24 24\"\n",
              "       width=\"24px\">\n",
              "    <path d=\"M0 0h24v24H0V0z\" fill=\"none\"/>\n",
              "    <path d=\"M18.56 5.44l.94 2.06.94-2.06 2.06-.94-2.06-.94-.94-2.06-.94 2.06-2.06.94zm-11 1L8.5 8.5l.94-2.06 2.06-.94-2.06-.94L8.5 2.5l-.94 2.06-2.06.94zm10 10l.94 2.06.94-2.06 2.06-.94-2.06-.94-.94-2.06-.94 2.06-2.06.94z\"/><path d=\"M17.41 7.96l-1.37-1.37c-.4-.4-.92-.59-1.43-.59-.52 0-1.04.2-1.43.59L10.3 9.45l-7.72 7.72c-.78.78-.78 2.05 0 2.83L4 21.41c.39.39.9.59 1.41.59.51 0 1.02-.2 1.41-.59l7.78-7.78 2.81-2.81c.8-.78.8-2.07 0-2.86zM5.41 20L4 18.59l7.72-7.72 1.47 1.35L5.41 20z\"/>\n",
              "  </svg>\n",
              "      </button>\n",
              "      \n",
              "  <style>\n",
              "    .colab-df-container {\n",
              "      display:flex;\n",
              "      flex-wrap:wrap;\n",
              "      gap: 12px;\n",
              "    }\n",
              "\n",
              "    .colab-df-convert {\n",
              "      background-color: #E8F0FE;\n",
              "      border: none;\n",
              "      border-radius: 50%;\n",
              "      cursor: pointer;\n",
              "      display: none;\n",
              "      fill: #1967D2;\n",
              "      height: 32px;\n",
              "      padding: 0 0 0 0;\n",
              "      width: 32px;\n",
              "    }\n",
              "\n",
              "    .colab-df-convert:hover {\n",
              "      background-color: #E2EBFA;\n",
              "      box-shadow: 0px 1px 2px rgba(60, 64, 67, 0.3), 0px 1px 3px 1px rgba(60, 64, 67, 0.15);\n",
              "      fill: #174EA6;\n",
              "    }\n",
              "\n",
              "    [theme=dark] .colab-df-convert {\n",
              "      background-color: #3B4455;\n",
              "      fill: #D2E3FC;\n",
              "    }\n",
              "\n",
              "    [theme=dark] .colab-df-convert:hover {\n",
              "      background-color: #434B5C;\n",
              "      box-shadow: 0px 1px 3px 1px rgba(0, 0, 0, 0.15);\n",
              "      filter: drop-shadow(0px 1px 2px rgba(0, 0, 0, 0.3));\n",
              "      fill: #FFFFFF;\n",
              "    }\n",
              "  </style>\n",
              "\n",
              "      <script>\n",
              "        const buttonEl =\n",
              "          document.querySelector('#df-3f5e174f-b7f5-4624-9f9e-c7b6ed9ce95b button.colab-df-convert');\n",
              "        buttonEl.style.display =\n",
              "          google.colab.kernel.accessAllowed ? 'block' : 'none';\n",
              "\n",
              "        async function convertToInteractive(key) {\n",
              "          const element = document.querySelector('#df-3f5e174f-b7f5-4624-9f9e-c7b6ed9ce95b');\n",
              "          const dataTable =\n",
              "            await google.colab.kernel.invokeFunction('convertToInteractive',\n",
              "                                                     [key], {});\n",
              "          if (!dataTable) return;\n",
              "\n",
              "          const docLinkHtml = 'Like what you see? Visit the ' +\n",
              "            '<a target=\"_blank\" href=https://colab.research.google.com/notebooks/data_table.ipynb>data table notebook</a>'\n",
              "            + ' to learn more about interactive tables.';\n",
              "          element.innerHTML = '';\n",
              "          dataTable['output_type'] = 'display_data';\n",
              "          await google.colab.output.renderOutput(dataTable, element);\n",
              "          const docLink = document.createElement('div');\n",
              "          docLink.innerHTML = docLinkHtml;\n",
              "          element.appendChild(docLink);\n",
              "        }\n",
              "      </script>\n",
              "    </div>\n",
              "  </div>\n",
              "  "
            ]
          },
          "metadata": {},
          "execution_count": 29
        }
      ]
    },
    {
      "cell_type": "markdown",
      "source": [
        "### Simpan hasil preprocessing"
      ],
      "metadata": {
        "id": "_DpgSa1Zd1f7"
      }
    },
    {
      "cell_type": "code",
      "source": [
        "df_new.to_csv('/content/drive/My Drive/clean_dataset_PB_ROBOT.csv',sep=\";\")"
      ],
      "metadata": {
        "id": "tjvyAhCtd3KN"
      },
      "execution_count": 30,
      "outputs": []
    },
    {
      "cell_type": "markdown",
      "source": [
        "### Penataan data"
      ],
      "metadata": {
        "id": "SrsKHL3CeZoV"
      }
    },
    {
      "cell_type": "code",
      "source": [
        "import pandas as pd\n",
        "import numpy as np"
      ],
      "metadata": {
        "id": "k3Sr1F_qedRc"
      },
      "execution_count": 31,
      "outputs": []
    },
    {
      "cell_type": "code",
      "source": [
        "dataset = pd.read_csv('/content/drive/My Drive/clean_dataset_PB_ROBOT.csv',sep=\";\")"
      ],
      "metadata": {
        "id": "FYNAe6Kjeh7N"
      },
      "execution_count": 32,
      "outputs": []
    },
    {
      "cell_type": "code",
      "source": [
        "dataset.info()"
      ],
      "metadata": {
        "id": "Z46chtnHepRG",
        "colab": {
          "base_uri": "https://localhost:8080/"
        },
        "outputId": "a92f7d77-b448-4aa8-f546-57a8b4a52dd3"
      },
      "execution_count": 33,
      "outputs": [
        {
          "output_type": "stream",
          "name": "stdout",
          "text": [
            "<class 'pandas.core.frame.DataFrame'>\n",
            "RangeIndex: 2898 entries, 0 to 2897\n",
            "Data columns (total 7 columns):\n",
            " #   Column         Non-Null Count  Dtype  \n",
            "---  ------         --------------  -----  \n",
            " 0   Unnamed: 0     2898 non-null   int64  \n",
            " 1   bintang        2898 non-null   float64\n",
            " 2   review         2898 non-null   object \n",
            " 3   step01         2898 non-null   object \n",
            " 4   tokens         2898 non-null   object \n",
            " 5   step02         2898 non-null   object \n",
            " 6   ProcessedText  2898 non-null   object \n",
            "dtypes: float64(1), int64(1), object(5)\n",
            "memory usage: 158.6+ KB\n"
          ]
        }
      ]
    },
    {
      "cell_type": "code",
      "source": [
        "dataset_feature = dataset['ProcessedText'].astype(str)"
      ],
      "metadata": {
        "id": "um80diQ_eq79"
      },
      "execution_count": 34,
      "outputs": []
    },
    {
      "cell_type": "code",
      "source": [
        "dataset_feature.head()"
      ],
      "metadata": {
        "id": "r3grimYyerX9",
        "colab": {
          "base_uri": "https://localhost:8080/"
        },
        "outputId": "5a8b87bc-b743-424e-f471-5bd3617745f5"
      },
      "execution_count": 35,
      "outputs": [
        {
          "output_type": "execute_result",
          "data": {
            "text/plain": [
              "0    alhamdulillah paket sudah sampai dgn aman prod...\n",
              "1    alhamdulillah pesan saya sudah sampai nih ka d...\n",
              "2    pertama kali aku kasih bintang di bwh number t...\n",
              "3    kirim sangat cepat padahal beli pas lagi event...\n",
              "4    jika ingin hubung layan allcaps pln allcaps nu...\n",
              "Name: ProcessedText, dtype: object"
            ]
          },
          "metadata": {},
          "execution_count": 35
        }
      ]
    },
    {
      "cell_type": "code",
      "source": [
        "dataset_label = dataset['bintang']"
      ],
      "metadata": {
        "id": "4vIC5sgketGV"
      },
      "execution_count": 36,
      "outputs": []
    },
    {
      "cell_type": "code",
      "source": [
        "dataset_label.head()"
      ],
      "metadata": {
        "id": "30qDAZk2fBu9",
        "colab": {
          "base_uri": "https://localhost:8080/"
        },
        "outputId": "1c3e98b3-3f2b-4f92-ecde-c655655f1dd9"
      },
      "execution_count": 37,
      "outputs": [
        {
          "output_type": "execute_result",
          "data": {
            "text/plain": [
              "0    5.0\n",
              "1    5.0\n",
              "2    2.0\n",
              "3    5.0\n",
              "4    5.0\n",
              "Name: bintang, dtype: float64"
            ]
          },
          "metadata": {},
          "execution_count": 37
        }
      ]
    },
    {
      "cell_type": "markdown",
      "source": [
        "### Ekstraksi Fitur dan Machine Learning"
      ],
      "metadata": {
        "id": "3pc3GRhwfDdg"
      }
    },
    {
      "cell_type": "code",
      "source": [
        "from sklearn.model_selection import GridSearchCV\n",
        "from sklearn.metrics import accuracy_score\n",
        "from sklearn.metrics import recall_score\n",
        "from sklearn.metrics import f1_score\n",
        "from sklearn.metrics import precision_score\n",
        "from sklearn.model_selection import train_test_split"
      ],
      "metadata": {
        "id": "-OJZs6XpfFkk"
      },
      "execution_count": 38,
      "outputs": []
    },
    {
      "cell_type": "code",
      "source": [
        "train_x, test_x, train_label, test_label = train_test_split(dataset_feature, dataset_label, test_size = 0.3, random_state=42)"
      ],
      "metadata": {
        "id": "8_oZoGv6fN4-"
      },
      "execution_count": 39,
      "outputs": []
    },
    {
      "cell_type": "markdown",
      "source": [
        "#### Load TF-IDF"
      ],
      "metadata": {
        "id": "KoPN51JofPU1"
      }
    },
    {
      "cell_type": "code",
      "source": [
        "from sklearn.feature_extraction.text import TfidfVectorizer\n",
        "Tfidf_Vectorizer = TfidfVectorizer()"
      ],
      "metadata": {
        "id": "mu46ieZpfPpG"
      },
      "execution_count": 40,
      "outputs": []
    },
    {
      "cell_type": "markdown",
      "source": [
        "### Naive Bayes Model"
      ],
      "metadata": {
        "id": "63wS65nTfS9k"
      }
    },
    {
      "cell_type": "code",
      "source": [
        "from sklearn.naive_bayes import MultinomialNB"
      ],
      "metadata": {
        "id": "Q5YZYkPnfTQ0"
      },
      "execution_count": 41,
      "outputs": []
    },
    {
      "cell_type": "code",
      "source": [
        "from sklearn.pipeline import Pipeline\n",
        "classifier_nb = Pipeline([\n",
        "    ('tfidf', TfidfVectorizer()),\n",
        "    ('model', MultinomialNB()),\n",
        "])"
      ],
      "metadata": {
        "id": "j7vCyb0cfXIW"
      },
      "execution_count": 42,
      "outputs": []
    },
    {
      "cell_type": "code",
      "source": [
        "parameters_nb = { \n",
        "               'tfidf__ngram_range': [(1, 1), (1, 2), (1, 3), (1, 4)],\n",
        "               #'tfidf__use_idf': (True, False),\n",
        "               'model__alpha': (0, 1, 1e-2, 1e-3)\n",
        "}"
      ],
      "metadata": {
        "id": "lEysE16AfdO3"
      },
      "execution_count": 43,
      "outputs": []
    },
    {
      "cell_type": "code",
      "source": [
        "classifier_nb = GridSearchCV(classifier_nb, parameters_nb, cv = 3, n_jobs=-1)"
      ],
      "metadata": {
        "id": "-Sy9AAZ5ffb2"
      },
      "execution_count": 44,
      "outputs": []
    },
    {
      "cell_type": "code",
      "source": [
        "classifier_nb.fit(train_x, train_label.ravel())"
      ],
      "metadata": {
        "id": "tLsaq1eyfgCd",
        "colab": {
          "base_uri": "https://localhost:8080/"
        },
        "outputId": "c53d4383-1259-4185-c497-44df2790ae45"
      },
      "execution_count": 45,
      "outputs": [
        {
          "output_type": "execute_result",
          "data": {
            "text/plain": [
              "GridSearchCV(cv=3,\n",
              "             estimator=Pipeline(steps=[('tfidf', TfidfVectorizer()),\n",
              "                                       ('model', MultinomialNB())]),\n",
              "             n_jobs=-1,\n",
              "             param_grid={'model__alpha': (0, 1, 0.01, 0.001),\n",
              "                         'tfidf__ngram_range': [(1, 1), (1, 2), (1, 3),\n",
              "                                                (1, 4)]})"
            ]
          },
          "metadata": {},
          "execution_count": 45
        }
      ]
    },
    {
      "cell_type": "code",
      "source": [
        "y_pred_nb_train = classifier_nb.predict(train_x)\n",
        "accuracy_nb_train = accuracy_score(train_label, y_pred_nb_train)\n",
        "print(\"Accuracy Training set: \", accuracy_nb_train)\n",
        "\n",
        "y_pred_nb_test = classifier_nb.predict(test_x)\n",
        "accuracy_nb_test = accuracy_score(test_label, y_pred_nb_test)\n",
        "print(\"Accuracy Test set: \", accuracy_nb_test)"
      ],
      "metadata": {
        "id": "TITMdavmfjDU",
        "colab": {
          "base_uri": "https://localhost:8080/"
        },
        "outputId": "6d911e7d-e3d7-462e-fe1e-b8668feb45b9"
      },
      "execution_count": 46,
      "outputs": [
        {
          "output_type": "stream",
          "name": "stdout",
          "text": [
            "Accuracy Training set:  0.908284023668639\n",
            "Accuracy Test set:  0.9091954022988505\n"
          ]
        }
      ]
    },
    {
      "cell_type": "code",
      "source": [
        "recall_nb_train = recall_score(train_label, y_pred_nb_train, average='weighted')\n",
        "print(\"Recall Training set: \", recall_nb_train)\n",
        "\n",
        "recall_nb_test = recall_score(test_label, y_pred_nb_test, average='weighted')\n",
        "print(\"Recall Test set: \", recall_nb_test)"
      ],
      "metadata": {
        "id": "3L_GcBy1fkro",
        "colab": {
          "base_uri": "https://localhost:8080/"
        },
        "outputId": "d470ad38-a1fd-43f5-b43d-0dc0f17c4e70"
      },
      "execution_count": 47,
      "outputs": [
        {
          "output_type": "stream",
          "name": "stdout",
          "text": [
            "Recall Training set:  0.908284023668639\n",
            "Recall Test set:  0.9091954022988505\n"
          ]
        }
      ]
    },
    {
      "cell_type": "code",
      "source": [
        "precision_nb_train = precision_score(train_label, y_pred_nb_train, average='weighted')\n",
        "print(\"Precision Training set: \", precision_nb_train)\n",
        "\n",
        "precision_nb_test = precision_score(test_label, y_pred_nb_test, average='weighted')\n",
        "print(\"Precision Test set: \", precision_nb_test)"
      ],
      "metadata": {
        "id": "27TK5o9lfmTV",
        "colab": {
          "base_uri": "https://localhost:8080/"
        },
        "outputId": "f93a8c70-75db-4352-ec81-a6683b313437"
      },
      "execution_count": 48,
      "outputs": [
        {
          "output_type": "stream",
          "name": "stdout",
          "text": [
            "Precision Training set:  0.8615885500330029\n",
            "Precision Test set:  0.8266362795613686\n"
          ]
        },
        {
          "output_type": "stream",
          "name": "stderr",
          "text": [
            "/usr/local/lib/python3.8/dist-packages/sklearn/metrics/_classification.py:1318: UndefinedMetricWarning: Precision is ill-defined and being set to 0.0 in labels with no predicted samples. Use `zero_division` parameter to control this behavior.\n",
            "  _warn_prf(average, modifier, msg_start, len(result))\n",
            "/usr/local/lib/python3.8/dist-packages/sklearn/metrics/_classification.py:1318: UndefinedMetricWarning: Precision is ill-defined and being set to 0.0 in labels with no predicted samples. Use `zero_division` parameter to control this behavior.\n",
            "  _warn_prf(average, modifier, msg_start, len(result))\n"
          ]
        }
      ]
    },
    {
      "cell_type": "code",
      "source": [
        "f1_nb_train = f1_score(train_label, y_pred_nb_train, average='weighted')\n",
        "print(\"F1 Training set: \", f1_nb_train)\n",
        "\n",
        "f1_nb_test = f1_score(test_label, y_pred_nb_test, average='weighted')\n",
        "print(\"F1 Test set: \", f1_nb_test)"
      ],
      "metadata": {
        "id": "AFz9HF7afoDE",
        "colab": {
          "base_uri": "https://localhost:8080/"
        },
        "outputId": "29f693cb-14f6-4083-9bf0-a124f8020663"
      },
      "execution_count": 49,
      "outputs": [
        {
          "output_type": "stream",
          "name": "stdout",
          "text": [
            "F1 Training set:  0.8655804467896484\n",
            "F1 Test set:  0.8659525144110666\n"
          ]
        }
      ]
    },
    {
      "cell_type": "code",
      "source": [
        "from sklearn.metrics import confusion_matrix\n",
        "sns.heatmap(confusion_matrix(test_label, y_pred_nb_test), annot=True, cmap = 'viridis', fmt='.0f')\n",
        "plt.xlabel(\"Predicted values\", fontdict = {'size':14}, labelpad = 10)\n",
        "plt.ylabel(\"Actual values\"   , fontdict = {'size':14}, labelpad = 10)\n",
        "plt.title (\"Confusion Matrix\", fontdict = {'size':18}, pad = 20)\n",
        "plt.show()"
      ],
      "metadata": {
        "id": "ZNOuw4uHfpuG",
        "colab": {
          "base_uri": "https://localhost:8080/",
          "height": 323
        },
        "outputId": "3938057e-c3e3-42d4-de9d-496c8c8ddb2f"
      },
      "execution_count": 50,
      "outputs": [
        {
          "output_type": "display_data",
          "data": {
            "text/plain": [
              "<Figure size 432x288 with 2 Axes>"
            ],
            "image/png": "[encoded data removed]"
          },
          "metadata": {
            "needs_background": "light"
          }
        }
      ]
    },
    {
      "cell_type": "code",
      "source": [
        "classifier_nb.best_estimator_"
      ],
      "metadata": {
        "id": "RsIhhfL3ftZX",
        "colab": {
          "base_uri": "https://localhost:8080/"
        },
        "outputId": "8acd691d-9934-4126-ab06-1bf50028588e"
      },
      "execution_count": 51,
      "outputs": [
        {
          "output_type": "execute_result",
          "data": {
            "text/plain": [
              "Pipeline(steps=[('tfidf', TfidfVectorizer()),\n",
              "                ('model', MultinomialNB(alpha=1))])"
            ]
          },
          "metadata": {},
          "execution_count": 51
        }
      ]
    },
    {
      "cell_type": "code",
      "source": [
        "for param_name in sorted(parameters_nb.keys()):\n",
        "    print(\"%s: %r\" % (param_name, classifier_nb.best_params_[param_name]))"
      ],
      "metadata": {
        "id": "DaJvqsBjfvc9",
        "colab": {
          "base_uri": "https://localhost:8080/"
        },
        "outputId": "328c6b44-7b60-4cd0-82ab-7028c4798636"
      },
      "execution_count": 52,
      "outputs": [
        {
          "output_type": "stream",
          "name": "stdout",
          "text": [
            "model__alpha: 1\n",
            "tfidf__ngram_range: (1, 1)\n"
          ]
        }
      ]
    },
    {
      "cell_type": "markdown",
      "source": [
        "### Visualisasi"
      ],
      "metadata": {
        "id": "gqhQhdeafyhG"
      }
    },
    {
      "cell_type": "code",
      "source": [
        "models = [        \n",
        "          ('Naive Bayes Multinomial', accuracy_nb_train, accuracy_nb_test),\n",
        "         ]"
      ],
      "metadata": {
        "id": "kL4j8WyvfztW"
      },
      "execution_count": 53,
      "outputs": []
    },
    {
      "cell_type": "code",
      "source": [
        "predict = pd.DataFrame(data = models, columns=['Model', 'Training Accuracy', 'Test Accuracy'])\n",
        "predict"
      ],
      "metadata": {
        "id": "KQXKvJc4f1OV",
        "colab": {
          "base_uri": "https://localhost:8080/",
          "height": 81
        },
        "outputId": "6ddee157-3bcd-41ce-c0f1-5afb967d7e26"
      },
      "execution_count": 54,
      "outputs": [
        {
          "output_type": "execute_result",
          "data": {
            "text/plain": [
              "                     Model  Training Accuracy  Test Accuracy\n",
              "0  Naive Bayes Multinomial           0.908284       0.909195"
            ],
            "text/html": [
              "\n",
              "  <div id=\"df-f822576f-c3e5-4b5a-88d0-026520769f34\">\n",
              "    <div class=\"colab-df-container\">\n",
              "      <div>\n",
              "<style scoped>\n",
              "    .dataframe tbody tr th:only-of-type {\n",
              "        vertical-align: middle;\n",
              "    }\n",
              "\n",
              "    .dataframe tbody tr th {\n",
              "        vertical-align: top;\n",
              "    }\n",
              "\n",
              "    .dataframe thead th {\n",
              "        text-align: right;\n",
              "    }\n",
              "</style>\n",
              "<table border=\"1\" class=\"dataframe\">\n",
              "  <thead>\n",
              "    <tr style=\"text-align: right;\">\n",
              "      <th></th>\n",
              "      <th>Model</th>\n",
              "      <th>Training Accuracy</th>\n",
              "      <th>Test Accuracy</th>\n",
              "    </tr>\n",
              "  </thead>\n",
              "  <tbody>\n",
              "    <tr>\n",
              "      <th>0</th>\n",
              "      <td>Naive Bayes Multinomial</td>\n",
              "      <td>0.908284</td>\n",
              "      <td>0.909195</td>\n",
              "    </tr>\n",
              "  </tbody>\n",
              "</table>\n",
              "</div>\n",
              "      <button class=\"colab-df-convert\" onclick=\"convertToInteractive('df-f822576f-c3e5-4b5a-88d0-026520769f34')\"\n",
              "              title=\"Convert this dataframe to an interactive table.\"\n",
              "              style=\"display:none;\">\n",
              "        \n",
              "  <svg xmlns=\"http://www.w3.org/2000/svg\" height=\"24px\"viewBox=\"0 0 24 24\"\n",
              "       width=\"24px\">\n",
              "    <path d=\"M0 0h24v24H0V0z\" fill=\"none\"/>\n",
              "    <path d=\"M18.56 5.44l.94 2.06.94-2.06 2.06-.94-2.06-.94-.94-2.06-.94 2.06-2.06.94zm-11 1L8.5 8.5l.94-2.06 2.06-.94-2.06-.94L8.5 2.5l-.94 2.06-2.06.94zm10 10l.94 2.06.94-2.06 2.06-.94-2.06-.94-.94-2.06-.94 2.06-2.06.94z\"/><path d=\"M17.41 7.96l-1.37-1.37c-.4-.4-.92-.59-1.43-.59-.52 0-1.04.2-1.43.59L10.3 9.45l-7.72 7.72c-.78.78-.78 2.05 0 2.83L4 21.41c.39.39.9.59 1.41.59.51 0 1.02-.2 1.41-.59l7.78-7.78 2.81-2.81c.8-.78.8-2.07 0-2.86zM5.41 20L4 18.59l7.72-7.72 1.47 1.35L5.41 20z\"/>\n",
              "  </svg>\n",
              "      </button>\n",
              "      \n",
              "  <style>\n",
              "    .colab-df-container {\n",
              "      display:flex;\n",
              "      flex-wrap:wrap;\n",
              "      gap: 12px;\n",
              "    }\n",
              "\n",
              "    .colab-df-convert {\n",
              "      background-color: #E8F0FE;\n",
              "      border: none;\n",
              "      border-radius: 50%;\n",
              "      cursor: pointer;\n",
              "      display: none;\n",
              "      fill: #1967D2;\n",
              "      height: 32px;\n",
              "      padding: 0 0 0 0;\n",
              "      width: 32px;\n",
              "    }\n",
              "\n",
              "    .colab-df-convert:hover {\n",
              "      background-color: #E2EBFA;\n",
              "      box-shadow: 0px 1px 2px rgba(60, 64, 67, 0.3), 0px 1px 3px 1px rgba(60, 64, 67, 0.15);\n",
              "      fill: #174EA6;\n",
              "    }\n",
              "\n",
              "    [theme=dark] .colab-df-convert {\n",
              "      background-color: #3B4455;\n",
              "      fill: #D2E3FC;\n",
              "    }\n",
              "\n",
              "    [theme=dark] .colab-df-convert:hover {\n",
              "      background-color: #434B5C;\n",
              "      box-shadow: 0px 1px 3px 1px rgba(0, 0, 0, 0.15);\n",
              "      filter: drop-shadow(0px 1px 2px rgba(0, 0, 0, 0.3));\n",
              "      fill: #FFFFFF;\n",
              "    }\n",
              "  </style>\n",
              "\n",
              "      <script>\n",
              "        const buttonEl =\n",
              "          document.querySelector('#df-f822576f-c3e5-4b5a-88d0-026520769f34 button.colab-df-convert');\n",
              "        buttonEl.style.display =\n",
              "          google.colab.kernel.accessAllowed ? 'block' : 'none';\n",
              "\n",
              "        async function convertToInteractive(key) {\n",
              "          const element = document.querySelector('#df-f822576f-c3e5-4b5a-88d0-026520769f34');\n",
              "          const dataTable =\n",
              "            await google.colab.kernel.invokeFunction('convertToInteractive',\n",
              "                                                     [key], {});\n",
              "          if (!dataTable) return;\n",
              "\n",
              "          const docLinkHtml = 'Like what you see? Visit the ' +\n",
              "            '<a target=\"_blank\" href=https://colab.research.google.com/notebooks/data_table.ipynb>data table notebook</a>'\n",
              "            + ' to learn more about interactive tables.';\n",
              "          element.innerHTML = '';\n",
              "          dataTable['output_type'] = 'display_data';\n",
              "          await google.colab.output.renderOutput(dataTable, element);\n",
              "          const docLink = document.createElement('div');\n",
              "          docLink.innerHTML = docLinkHtml;\n",
              "          element.appendChild(docLink);\n",
              "        }\n",
              "      </script>\n",
              "    </div>\n",
              "  </div>\n",
              "  "
            ]
          },
          "metadata": {},
          "execution_count": 54
        }
      ]
    },
    {
      "cell_type": "code",
      "source": [
        "models_comparison = [                        \n",
        "                        ('Naive Bayes Multinomial', accuracy_nb_test, recall_nb_test, precision_nb_test, f1_nb_test)                      \n",
        "                    ]"
      ],
      "metadata": {
        "id": "YthkltIJf2wO"
      },
      "execution_count": 55,
      "outputs": []
    },
    {
      "cell_type": "code",
      "source": [
        "comparison = pd.DataFrame(data = models_comparison, columns=['Model', 'Accuracy', 'Recall', 'Precision', 'F1 Weighted'])\n",
        "comparison"
      ],
      "metadata": {
        "id": "KKD2OK7Tf4En",
        "colab": {
          "base_uri": "https://localhost:8080/",
          "height": 81
        },
        "outputId": "9d644790-c19d-4bd0-d807-bcaa4770ee01"
      },
      "execution_count": 56,
      "outputs": [
        {
          "output_type": "execute_result",
          "data": {
            "text/plain": [
              "                     Model  Accuracy    Recall  Precision  F1 Weighted\n",
              "0  Naive Bayes Multinomial  0.909195  0.909195   0.826636     0.865953"
            ],
            "text/html": [
              "\n",
              "  <div id=\"df-993e02bc-abf6-48db-b4f9-72ab52324823\">\n",
              "    <div class=\"colab-df-container\">\n",
              "      <div>\n",
              "<style scoped>\n",
              "    .dataframe tbody tr th:only-of-type {\n",
              "        vertical-align: middle;\n",
              "    }\n",
              "\n",
              "    .dataframe tbody tr th {\n",
              "        vertical-align: top;\n",
              "    }\n",
              "\n",
              "    .dataframe thead th {\n",
              "        text-align: right;\n",
              "    }\n",
              "</style>\n",
              "<table border=\"1\" class=\"dataframe\">\n",
              "  <thead>\n",
              "    <tr style=\"text-align: right;\">\n",
              "      <th></th>\n",
              "      <th>Model</th>\n",
              "      <th>Accuracy</th>\n",
              "      <th>Recall</th>\n",
              "      <th>Precision</th>\n",
              "      <th>F1 Weighted</th>\n",
              "    </tr>\n",
              "  </thead>\n",
              "  <tbody>\n",
              "    <tr>\n",
              "      <th>0</th>\n",
              "      <td>Naive Bayes Multinomial</td>\n",
              "      <td>0.909195</td>\n",
              "      <td>0.909195</td>\n",
              "      <td>0.826636</td>\n",
              "      <td>0.865953</td>\n",
              "    </tr>\n",
              "  </tbody>\n",
              "</table>\n",
              "</div>\n",
              "      <button class=\"colab-df-convert\" onclick=\"convertToInteractive('df-993e02bc-abf6-48db-b4f9-72ab52324823')\"\n",
              "              title=\"Convert this dataframe to an interactive table.\"\n",
              "              style=\"display:none;\">\n",
              "        \n",
              "  <svg xmlns=\"http://www.w3.org/2000/svg\" height=\"24px\"viewBox=\"0 0 24 24\"\n",
              "       width=\"24px\">\n",
              "    <path d=\"M0 0h24v24H0V0z\" fill=\"none\"/>\n",
              "    <path d=\"M18.56 5.44l.94 2.06.94-2.06 2.06-.94-2.06-.94-.94-2.06-.94 2.06-2.06.94zm-11 1L8.5 8.5l.94-2.06 2.06-.94-2.06-.94L8.5 2.5l-.94 2.06-2.06.94zm10 10l.94 2.06.94-2.06 2.06-.94-2.06-.94-.94-2.06-.94 2.06-2.06.94z\"/><path d=\"M17.41 7.96l-1.37-1.37c-.4-.4-.92-.59-1.43-.59-.52 0-1.04.2-1.43.59L10.3 9.45l-7.72 7.72c-.78.78-.78 2.05 0 2.83L4 21.41c.39.39.9.59 1.41.59.51 0 1.02-.2 1.41-.59l7.78-7.78 2.81-2.81c.8-.78.8-2.07 0-2.86zM5.41 20L4 18.59l7.72-7.72 1.47 1.35L5.41 20z\"/>\n",
              "  </svg>\n",
              "      </button>\n",
              "      \n",
              "  <style>\n",
              "    .colab-df-container {\n",
              "      display:flex;\n",
              "      flex-wrap:wrap;\n",
              "      gap: 12px;\n",
              "    }\n",
              "\n",
              "    .colab-df-convert {\n",
              "      background-color: #E8F0FE;\n",
              "      border: none;\n",
              "      border-radius: 50%;\n",
              "      cursor: pointer;\n",
              "      display: none;\n",
              "      fill: #1967D2;\n",
              "      height: 32px;\n",
              "      padding: 0 0 0 0;\n",
              "      width: 32px;\n",
              "    }\n",
              "\n",
              "    .colab-df-convert:hover {\n",
              "      background-color: #E2EBFA;\n",
              "      box-shadow: 0px 1px 2px rgba(60, 64, 67, 0.3), 0px 1px 3px 1px rgba(60, 64, 67, 0.15);\n",
              "      fill: #174EA6;\n",
              "    }\n",
              "\n",
              "    [theme=dark] .colab-df-convert {\n",
              "      background-color: #3B4455;\n",
              "      fill: #D2E3FC;\n",
              "    }\n",
              "\n",
              "    [theme=dark] .colab-df-convert:hover {\n",
              "      background-color: #434B5C;\n",
              "      box-shadow: 0px 1px 3px 1px rgba(0, 0, 0, 0.15);\n",
              "      filter: drop-shadow(0px 1px 2px rgba(0, 0, 0, 0.3));\n",
              "      fill: #FFFFFF;\n",
              "    }\n",
              "  </style>\n",
              "\n",
              "      <script>\n",
              "        const buttonEl =\n",
              "          document.querySelector('#df-993e02bc-abf6-48db-b4f9-72ab52324823 button.colab-df-convert');\n",
              "        buttonEl.style.display =\n",
              "          google.colab.kernel.accessAllowed ? 'block' : 'none';\n",
              "\n",
              "        async function convertToInteractive(key) {\n",
              "          const element = document.querySelector('#df-993e02bc-abf6-48db-b4f9-72ab52324823');\n",
              "          const dataTable =\n",
              "            await google.colab.kernel.invokeFunction('convertToInteractive',\n",
              "                                                     [key], {});\n",
              "          if (!dataTable) return;\n",
              "\n",
              "          const docLinkHtml = 'Like what you see? Visit the ' +\n",
              "            '<a target=\"_blank\" href=https://colab.research.google.com/notebooks/data_table.ipynb>data table notebook</a>'\n",
              "            + ' to learn more about interactive tables.';\n",
              "          element.innerHTML = '';\n",
              "          dataTable['output_type'] = 'display_data';\n",
              "          await google.colab.output.renderOutput(dataTable, element);\n",
              "          const docLink = document.createElement('div');\n",
              "          docLink.innerHTML = docLinkHtml;\n",
              "          element.appendChild(docLink);\n",
              "        }\n",
              "      </script>\n",
              "    </div>\n",
              "  </div>\n",
              "  "
            ]
          },
          "metadata": {},
          "execution_count": 56
        }
      ]
    },
    {
      "cell_type": "code",
      "source": [
        "import numpy as np\n",
        "\n",
        "f, axes = plt.subplots(2,1, figsize=(14,10))\n",
        "\n",
        "predict.sort_values(by=['Training Accuracy'], ascending=False, inplace=True)\n",
        "\n",
        "sns.barplot(x='Training Accuracy', y='Model', data = predict, palette='Blues_d', ax = axes[0])\n",
        "axes[0].set_xlabel('Training Accuracy', size=16)\n",
        "axes[0].set_ylabel('Model')\n",
        "axes[0].set_xlim(0,1.0)\n",
        "axes[0].set_xticks(np.arange(0, 1.1, 0.1))\n",
        "\n",
        "predict.sort_values(by=['Test Accuracy'], ascending=False, inplace=True)\n",
        "\n",
        "sns.barplot(x='Test Accuracy', y='Model', data = predict, palette='Greens_d', ax = axes[1])\n",
        "axes[1].set_xlabel('Test Accuracy', size=16)\n",
        "axes[1].set_ylabel('Model')\n",
        "axes[1].set_xlim(0,1.0)\n",
        "axes[1].set_xticks(np.arange(0, 1.1, 0.1))\n",
        "\n",
        "plt.show()"
      ],
      "metadata": {
        "id": "hJbLFcPUf7le",
        "colab": {
          "base_uri": "https://localhost:8080/",
          "height": 611
        },
        "outputId": "741ea312-4b36-47e1-a1a9-a53df292e83c"
      },
      "execution_count": 57,
      "outputs": [
        {
          "output_type": "display_data",
          "data": {
            "text/plain": [
              "<Figure size 1008x720 with 2 Axes>"
            ],
            "image/png": "[encoded data removed]"
          },
          "metadata": {
            "needs_background": "light"
          }
        }
      ]
    }
  ]
}